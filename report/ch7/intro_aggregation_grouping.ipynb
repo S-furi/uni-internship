{
 "cells": [
  {
   "cell_type": "markdown",
   "id": "bdda27b9-414b-4fb3-b7d4-b18794889053",
   "metadata": {},
   "source": [
    "# Data Aggregation and Group Operations"
   ]
  },
  {
   "cell_type": "markdown",
   "id": "6c0554c7-4fc4-4caa-8cea-c8e7aa5d3d19",
   "metadata": {},
   "source": [
    "Another important tool for data analysis, is the ability to group and categorize data, for computing some statistics with aggregate operations to each group, or maybe pivoting a table for statistical visualization purposes.\n",
    "\n",
    "Both pandas and Kotlin DataFrame follow the **split-apply-combine** strategy ({cite}`citeulike:10560365`).\n",
    "\n",
    "```{image} ../resources/img/split-apply-combine.png\n",
    ":alt: Split-Apply-Combine demonstration\n",
    ":class: bg-primary mb-1\n",
    ":width: 250px\n",
    ":align: center\n",
    "```"
   ]
  },
  {
   "cell_type": "markdown",
   "id": "33911e45-a522-4318-8e27-9f7d4cb7c7e9",
   "metadata": {},
   "source": [
    "This strategy involves breaking down a dataset into smaller subsets, performing a specific analysis or transformation on each subset, and then combining the result into a single output.\n",
    "\n",
    "In the following section we will see in depth how Kotlin DataFrame compute grouping operations, data aggregation and table pivoting in comparison with pandas."
   ]
  }
 ],
 "metadata": {
  "kernelspec": {
   "display_name": "",
   "name": ""
  },
  "language_info": {
   "name": ""
  }
 },
 "nbformat": 4,
 "nbformat_minor": 5
}
