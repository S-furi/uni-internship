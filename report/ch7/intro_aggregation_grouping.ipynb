{
 "cells": [
  {
   "cell_type": "markdown",
   "id": "bdda27b9-414b-4fb3-b7d4-b18794889053",
   "metadata": {},
   "source": [
    "# Data Aggregation and Group Operations"
   ]
  },
  {
   "cell_type": "markdown",
   "id": "6c0554c7-4fc4-4caa-8cea-c8e7aa5d3d19",
   "metadata": {},
   "source": [
    "Another important tool for data analysis, is the ability to group and categorize data, for computing some statistics with aggregate operations to each group, or maybe pivoting a table for statistical visualization purposes.\n",
    "\n",
    "In the following section we will see in depth how Kotlin DataFrame compute grouping operations, data aggregation and table pivoting in comparison with pandas."
   ]
  },
  {
   "cell_type": "markdown",
   "id": "eefe7394-94e7-4792-b12e-39ffc4a0062a",
   "metadata": {},
   "source": [
    "```{tableofcontents}\n",
    "```"
   ]
  },
  {
   "cell_type": "markdown",
   "id": "83ab4e81-7d68-4cc8-872d-024457735bc7",
   "metadata": {},
   "source": [
    "```{tableofcontents}\n",
    "```"
   ]
  }
 ],
 "metadata": {
  "kernelspec": {
   "display_name": "",
   "name": ""
  },
  "language_info": {
   "name": ""
  }
 },
 "nbformat": 4,
 "nbformat_minor": 5
}
