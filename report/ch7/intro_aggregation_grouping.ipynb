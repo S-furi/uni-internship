{
 "cells": [
  {
   "cell_type": "markdown",
   "id": "bdda27b9-414b-4fb3-b7d4-b18794889053",
   "metadata": {},
   "source": [
    "# Data Aggregation and Group Operations"
   ]
  },
  {
   "cell_type": "markdown",
   "id": "6c0554c7-4fc4-4caa-8cea-c8e7aa5d3d19",
   "metadata": {},
   "source": [
    "Having no such thing as `pandas.Index`, with Kotlin DataFrame the structure of the tabular data is more flexible, but in the same time it lacks all the power that a *labeled* index or multi index could give.\n",
    "The tabular object represented by a Kotlin `DataFrame` is slightly different from the pandas one, and so we have to think differently sometimes when it comes to replicate some pandas behaviors.\n",
    "\n",
    "In the following section we'll understand all the tools that Kotlin Dataframes provides, all its limits and differences with Python's pandas."
   ]
  },
  {
   "cell_type": "markdown",
   "id": "83ab4e81-7d68-4cc8-872d-024457735bc7",
   "metadata": {},
   "source": [
    "```{tableofcontents}\n",
    "```"
   ]
  }
 ],
 "metadata": {
  "kernelspec": {
   "display_name": "",
   "name": ""
  },
  "language_info": {
   "name": ""
  }
 },
 "nbformat": 4,
 "nbformat_minor": 5
}
