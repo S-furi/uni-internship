{
 "cells": [
  {
   "cell_type": "markdown",
   "id": "661f7f0e-2a60-48ec-980c-1a87ac1b498c",
   "metadata": {},
   "source": [
    "# Data Analysis and Manipulation Tools"
   ]
  },
  {
   "cell_type": "markdown",
   "id": "b0d83a3e-e77b-4170-8112-c3e53f87edb3",
   "metadata": {},
   "source": [
    "When dealing with large datasets, having efficient tools and libraries can greatly improve the speed and accuracy of these tasks. In the following section, it will be presented **Kotlin DataFrame**, a library that is inspired largely by **pandas**, kotlin collections and Krangl. This library tries to integrate the dynamic nature of data, and the static typing of Kotlin, through a series of techniques that will be explored later on.\n",
    "As NumPy, **pandas** has been a de-facto standard when dealing with loading, manipulating and presenting data when it comes to data analysis tasks."
   ]
  },
  {
   "cell_type": "markdown",
   "id": "d909d3ef-f985-4362-ac45-9b151bbc2f71",
   "metadata": {},
   "source": [
    "In the following section we will see and discuss how Kotlin and Python differs and resemble when involved in handling data with the tools provided by Kotlin DataFrame in contrast to Python's pandas."
   ]
  }
 ],
 "metadata": {
  "kernelspec": {
   "display_name": "",
   "name": ""
  },
  "language_info": {
   "name": ""
  }
 },
 "nbformat": 4,
 "nbformat_minor": 5
}
