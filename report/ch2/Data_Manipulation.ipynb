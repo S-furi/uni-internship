{
 "cells": [
  {
   "cell_type": "markdown",
   "id": "661f7f0e-2a60-48ec-980c-1a87ac1b498c",
   "metadata": {},
   "source": [
    "# Data Analysis and Manipulation"
   ]
  },
  {
   "cell_type": "markdown",
   "id": "d909d3ef-f985-4362-ac45-9b151bbc2f71",
   "metadata": {},
   "source": [
    "In the following section we will see and discuss how Kotlin and Python differs and resemble when involved in handling **Data**."
   ]
  },
  {
   "cell_type": "markdown",
   "id": "034ecf31-17ec-490f-82ce-b7197d54ffd6",
   "metadata": {},
   "source": [
    "```{tableofcontents}\n",
    "```"
   ]
  }
 ],
 "metadata": {
  "kernelspec": {
   "display_name": "",
   "name": ""
  },
  "language_info": {
   "name": ""
  }
 },
 "nbformat": 4,
 "nbformat_minor": 5
}
