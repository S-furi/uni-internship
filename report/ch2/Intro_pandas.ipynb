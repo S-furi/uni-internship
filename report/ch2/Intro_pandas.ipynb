{
 "cells": [
  {
   "cell_type": "markdown",
   "id": "845c6869-99c7-4807-a4b4-8fc74dec558f",
   "metadata": {},
   "source": [
    "# Data handling with Pandas"
   ]
  }
 ],
 "metadata": {
  "kernelspec": {
   "display_name": "",
   "name": ""
  },
  "language_info": {
   "name": ""
  }
 },
 "nbformat": 4,
 "nbformat_minor": 5
}
