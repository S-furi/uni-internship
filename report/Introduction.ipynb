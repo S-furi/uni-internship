{
 "cells": [
  {
   "cell_type": "markdown",
   "id": "54706140-3282-4a5a-a414-366d09825f0a",
   "metadata": {},
   "source": [
    "# Data Science with Kotlin"
   ]
  },
  {
   "cell_type": "markdown",
   "id": "6795fa2c-4e5b-42ac-bc78-5bbde5aa0575",
   "metadata": {},
   "source": [
    "## Current tools and programming language for Data Science"
   ]
  },
  {
   "cell_type": "markdown",
   "id": "7d9ef1c3-9acb-4ab8-9ed1-8ddde5559a3d",
   "metadata": {},
   "source": [
    "Nowadays Python is the leading programming language for Data Science, with all\n",
    "its pros and cons. A large variety of libraries has been developed and ported\n",
    "throughout the years, of which we cite just a few:\n",
    "- [**NumPy**](https://numpy.org/)\n",
    "- [**Pandas**](https://pandas.pydata.org/)\n",
    "- [**Matplotlib**](https://matplotlib.org/)\n",
    "\n",
    "(small description of the libraries)\n",
    "\n",
    "Pros:\n",
    "- Easy to learn and expressive language\n",
    "- Powerful\n",
    "- Concise\n",
    "\n",
    "Cons:\n",
    "- It's not a strongly typed language"
   ]
  },
  {
   "cell_type": "markdown",
   "id": "bbbfad92-6bcb-4d4c-b9ee-ff88d8765697",
   "metadata": {},
   "source": [
    "## Kotlin\n"
   ]
  },
  {
   "cell_type": "markdown",
   "id": "c355723d-d2c8-4435-bafc-bcf40a091117",
   "metadata": {},
   "source": [
    "### Key aspects about Kotlin"
   ]
  },
  {
   "cell_type": "markdown",
   "id": "30a63ed5-a3da-4d63-a315-2c81119446bc",
   "metadata": {},
   "source": [
    "### Kotlin toward DataScience"
   ]
  },
  {
   "cell_type": "markdown",
   "id": "0607e8cc-9bc5-477b-925e-c329afb29a9d",
   "metadata": {},
   "source": [
    "Kotlin provides several libraries for Data Science, and they're slowly growing more and more to be one day a reliable framework for DS.\n",
    "We will analyze the following libraries, each one of them has a python counterpart:\n",
    "- [**Multik**](https://github.com/Kotlin/multik)\n",
    "- [**Dataframe**](https://github.com/Kotlin/dataframe)\n",
    "- [**Lets-Plot**](https://github.com/JetBrains/lets-plot-kotlin)"
   ]
  },
  {
   "cell_type": "markdown",
   "id": "62273e41-7828-4512-81d3-89cc375574d0",
   "metadata": {},
   "source": [
    "In the following chapters we will go along some different core features used in DS, and you'll be shown how a problem solved in python, can be solved (sometimes) in the same way as well in kotlin."
   ]
  },
  {
   "cell_type": "markdown",
   "id": "3589feff-4801-4fe6-a81a-88bfb662f768",
   "metadata": {},
   "source": [
    "---\n",
    "## Working with Jupyter Notebook\n",
    "Nowadays it is more and more popular to work with [Jupyter Notebooks](https://jupyter.org/) for Data Science projects. Data visualization is a key aspect about this job, and with a notebook, it's very easy to load, process, manipulate and visualize data. \n",
    "\n",
    "Each notebook has to connect to a **kernel**, which provides the interpretation/compiling of the code inside a notebook. \n",
    "\n",
    "There are kernels for most of the python versions, but also kernels that support the R programming language, Ruby and a lot more!\n",
    "\n",
    "Fortunately, [Kotlin Jupyter Kernel](https://github.com/Kotlin/kotlin-jupyter) provide a kernel that make possible the use kotlin inside a Jupyter Notebook, and it adds support for libraries like Kotlin `DataFrame` and `Lets-Plot` for a proper rendering of Dataframes and Plots respectively."
   ]
  }
 ],
 "metadata": {
  "kernelspec": {
   "display_name": "Python 3 (ipykernel)",
   "language": "python",
   "name": "python3"
  },
  "language_info": {
   "codemirror_mode": {
    "name": "ipython",
    "version": 3
   },
   "file_extension": ".py",
   "mimetype": "text/x-python",
   "name": "python",
   "nbconvert_exporter": "python",
   "pygments_lexer": "ipython3",
   "version": "3.10.9"
  }
 },
 "nbformat": 4,
 "nbformat_minor": 5
}
