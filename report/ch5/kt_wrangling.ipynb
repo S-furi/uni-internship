{
 "cells": [
  {
   "cell_type": "markdown",
   "id": "171a18e0-1f32-4a6b-be34-25558f93c98e",
   "metadata": {},
   "source": [
    "# Data Wrangling with Kotlin"
   ]
  }
 ],
 "metadata": {
  "kernelspec": {
   "display_name": "Kotlin",
   "language": "kotlin",
   "name": "kotlin"
  },
  "language_info": {
   "codemirror_mode": "text/x-kotlin",
   "file_extension": ".kt",
   "mimetype": "text/x-kotlin",
   "name": "kotlin",
   "nbconvert_exporter": "",
   "pygments_lexer": "kotlin",
   "version": "1.8.20"
  }
 },
 "nbformat": 4,
 "nbformat_minor": 5
}
