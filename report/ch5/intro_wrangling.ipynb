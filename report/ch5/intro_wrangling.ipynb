{
 "cells": [
  {
   "cell_type": "markdown",
   "id": "04bce8e8-1607-499a-86d3-deb3bc9efc26",
   "metadata": {
    "tags": []
   },
   "source": [
    "# Data Wrangling\n",
    "\n",
    "> Data wrangling is the process of removing errors and combining complex data sets to make them more accessible and easier to analyze.\n",
    "\n",
    "One step further of data preparation, let's introduce data wrangling tools such as methods of Joining, Combining and Reshaping Dataframes.\n",
    "\n",
    "In a real world scenario, data may be spread across different locations and in a form that is not easy to analyze."
   ]
  },
  {
   "cell_type": "markdown",
   "id": "4fee4935-6e88-46e1-9f0f-e0561323d0a1",
   "metadata": {},
   "source": [
    "```{tableofcontents}\n",
    "```"
   ]
  }
 ],
 "metadata": {
  "kernelspec": {
   "display_name": "Kotlin",
   "language": "kotlin",
   "name": "kotlin"
  },
  "language_info": {
   "codemirror_mode": "text/x-kotlin",
   "file_extension": ".kt",
   "mimetype": "text/x-kotlin",
   "name": "kotlin",
   "nbconvert_exporter": "",
   "pygments_lexer": "kotlin",
   "version": "1.8.20"
  }
 },
 "nbformat": 4,
 "nbformat_minor": 5
}
