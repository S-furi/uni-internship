{
 "cells": [
  {
   "cell_type": "markdown",
   "id": "04bce8e8-1607-499a-86d3-deb3bc9efc26",
   "metadata": {
    "tags": []
   },
   "source": [
    "# Data Wrangling"
   ]
  }
 ],
 "metadata": {
  "kernelspec": {
   "display_name": "Kotlin",
   "language": "kotlin",
   "name": "kotlin"
  },
  "language_info": {
   "codemirror_mode": "text/x-kotlin",
   "file_extension": ".kt",
   "mimetype": "text/x-kotlin",
   "name": "kotlin",
   "nbconvert_exporter": "",
   "pygments_lexer": "kotlin",
   "version": "1.8.20"
  }
 },
 "nbformat": 4,
 "nbformat_minor": 5
}
