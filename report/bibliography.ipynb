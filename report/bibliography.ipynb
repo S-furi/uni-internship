{
 "cells": [
  {
   "cell_type": "markdown",
   "id": "42fb63e3-ee8b-4a42-8803-b9ccbf3e0287",
   "metadata": {},
   "source": [
    "# Bibliography"
   ]
  },
  {
   "cell_type": "markdown",
   "id": "883656f6-0bfe-4463-a8fc-b9f2f5c40ed7",
   "metadata": {},
   "source": [
    "```{bibliography}\n",
    "```"
   ]
  }
 ],
 "metadata": {
  "kernelspec": {
   "display_name": "",
   "name": ""
  },
  "language_info": {
   "name": ""
  }
 },
 "nbformat": 4,
 "nbformat_minor": 5
}
