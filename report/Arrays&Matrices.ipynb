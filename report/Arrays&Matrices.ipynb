{
 "cells": [
  {
   "cell_type": "markdown",
   "id": "818d85a2-120d-4861-857e-ca80fbcaed0e",
   "metadata": {},
   "source": [
    "# Working with Arrays and Matrices"
   ]
  },
  {
   "cell_type": "markdown",
   "id": "eefa7cec-0d04-4a2c-93b7-e1da37c41ae1",
   "metadata": {},
   "source": [
    "Every Data Scientist works daily with vectors and matrices, as they are the foundation about Data Analysis, Machine Learning and a lot of computer science mathematical models (???dunno how to start)."
   ]
  },
  {
   "cell_type": "markdown",
   "id": "7fa34380-5e9a-429d-a67c-3aef679a8ff1",
   "metadata": {},
   "source": [
    "## Numpy and Multik"
   ]
  },
  {
   "cell_type": "markdown",
   "id": "e403829a-7dca-4811-a4d5-035ca2f93e58",
   "metadata": {},
   "source": [
    "(Need a simple introduction of the two before deep diving into the examples)"
   ]
  },
  {
   "cell_type": "markdown",
   "id": "bd414918-b683-4612-8edc-7ca1d8872013",
   "metadata": {
    "tags": []
   },
   "source": [
    "Let's jump to some examples, both in Kotlin and Python"
   ]
  },
  {
   "cell_type": "markdown",
   "id": "9c8dbe9c-7251-4c87-8c0a-f13a9343f3af",
   "metadata": {
    "tags": []
   },
   "source": [
    "```{tableofcontents}\n",
    "```"
   ]
  }
 ],
 "metadata": {
  "kernelspec": {
   "display_name": "Kotlin",
   "language": "kotlin",
   "name": "kotlin"
  },
  "language_info": {
   "codemirror_mode": "text/x-kotlin",
   "file_extension": ".kt",
   "mimetype": "text/x-kotlin",
   "name": "kotlin",
   "nbconvert_exporter": "",
   "pygments_lexer": "kotlin",
   "version": "1.8.20"
  }
 },
 "nbformat": 4,
 "nbformat_minor": 5
}
