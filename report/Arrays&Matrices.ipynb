{
 "cells": [
  {
   "cell_type": "markdown",
   "id": "818d85a2-120d-4861-857e-ca80fbcaed0e",
   "metadata": {},
   "source": [
    "# Working with Arrays and Matrices"
   ]
  },
  {
   "cell_type": "markdown",
   "id": "eefa7cec-0d04-4a2c-93b7-e1da37c41ae1",
   "metadata": {},
   "source": [
    "Every Data Scientist works daily with vectors and matrices, as they are the foundation about Data Analysis, Machine Learning and a lot of computer science mathematical models (???dunno how to start)."
   ]
  },
  {
   "cell_type": "markdown",
   "id": "7fa34380-5e9a-429d-a67c-3aef679a8ff1",
   "metadata": {},
   "source": [
    "## Numpy and Multik"
   ]
  },
  {
   "cell_type": "markdown",
   "id": "e403829a-7dca-4811-a4d5-035ca2f93e58",
   "metadata": {},
   "source": [
    "(Need a simple introduction of the two before deep diving into the examples)"
   ]
  },
  {
   "cell_type": "markdown",
   "id": "959e04dc-9eac-4385-b838-f5830ae34f30",
   "metadata": {},
   "source": [
    "### Quickstart"
   ]
  },
  {
   "cell_type": "markdown",
   "id": "d9ae1815-a5f8-4229-8e62-1b3189108a2b",
   "metadata": {},
   "source": [
    "The [Kotlin Jupyter Kernel](https://github.com/Kotlin/kotlin-jupyter) makes the import of multik very easy using the magic keyword `%use`,\n",
    "whereas python uses the classic `import` statement with the \"standard\" name `np`"
   ]
  },
  {
   "cell_type": "code",
   "execution_count": 3,
   "id": "6bb48728-f7fe-4d3b-b768-54e4fe8c1c92",
   "metadata": {
    "tags": []
   },
   "outputs": [],
   "source": [
    "%use multik"
   ]
  },
  {
   "cell_type": "code",
   "execution_count": 2,
   "id": "988a46d8-8d3a-4b09-b1e6-2922ced7bcf3",
   "metadata": {
    "tags": []
   },
   "outputs": [],
   "source": [
    "import numpy as np"
   ]
  },
  {
   "cell_type": "markdown",
   "id": "72966753-d754-4a08-bb24-6ad172d8d94c",
   "metadata": {},
   "source": [
    "We can define a simple 1D vector of 10 element in the range \\[0, 10\\) with the same keyword for NumPy and Multik: `arange`"
   ]
  },
  {
   "cell_type": "code",
   "execution_count": 6,
   "id": "def7acaf-070c-4b49-8689-9bb4ca51c4c8",
   "metadata": {
    "tags": []
   },
   "outputs": [
    {
     "data": {
      "text/plain": [
       "[0, 1, 2, 3, 4, 5, 6, 7, 8, 9]"
      ]
     },
     "execution_count": 6,
     "metadata": {},
     "output_type": "execute_result"
    }
   ],
   "source": [
    "// kotlin\n",
    "val arr = mk.arange<Int>(10)\n",
    "arr"
   ]
  },
  {
   "cell_type": "code",
   "execution_count": 4,
   "id": "7e74c840-8b3e-4bf3-bf9d-3d5f8d90d875",
   "metadata": {
    "tags": []
   },
   "outputs": [
    {
     "data": {
      "text/plain": [
       "array([0, 1, 2, 3, 4, 5, 6, 7, 8, 9])"
      ]
     },
     "execution_count": 4,
     "metadata": {},
     "output_type": "execute_result"
    }
   ],
   "source": [
    "# python\n",
    "arr = np.arange(10)\n",
    "arr"
   ]
  }
 ],
 "metadata": {
  "kernelspec": {
   "display_name": "Kotlin",
   "language": "kotlin",
   "name": "kotlin"
  },
  "language_info": {
   "codemirror_mode": "text/x-kotlin",
   "file_extension": ".kt",
   "mimetype": "text/x-kotlin",
   "name": "kotlin",
   "nbconvert_exporter": "",
   "pygments_lexer": "kotlin",
   "version": "1.8.20"
  }
 },
 "nbformat": 4,
 "nbformat_minor": 5
}
