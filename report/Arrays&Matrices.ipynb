{
 "cells": [
  {
   "cell_type": "markdown",
   "id": "818d85a2-120d-4861-857e-ca80fbcaed0e",
   "metadata": {},
   "source": [
    "# Working with Arrays and Matrices"
   ]
  },
  {
   "cell_type": "markdown",
   "id": "eefa7cec-0d04-4a2c-93b7-e1da37c41ae1",
   "metadata": {},
   "source": [
    "Every Data Scientist works daily with vectors and matrices, as they are the foundation about Data Analysis, Machine Learning and a lot of computer science mathematical models (???dunno how to start)."
   ]
  },
  {
   "cell_type": "markdown",
   "id": "af62dd52-e028-4226-9d08-e567f304999c",
   "metadata": {},
   "source": [
    "## Numpy\n",
    "[NumPy](https://numpy.org/) has been the standard for working with multidimensional arrays since 2006, the date of it's release. Its core structure comes from late '90s *Numerical Python* and *Numarray* packages, wich for efficiency reasons, implemented most of their their core functions with the *C* programming language.\n",
    "\n",
    "Today a lot of Data Science libraries, like pandas, SciPy, matplotlib or Xarray are heavily dependent on NumPy."
   ]
  },
  {
   "cell_type": "markdown",
   "id": "7fa34380-5e9a-429d-a67c-3aef679a8ff1",
   "metadata": {},
   "source": [
    "## Multik"
   ]
  },
  {
   "cell_type": "markdown",
   "id": "f3c68d85-3b11-41a2-8b03-38e5bd67dbb3",
   "metadata": {},
   "source": [
    "As the name suggests, [Multik](https://github.com/Kotlin/multik) is a multidimensional array library for Kotlin, and it's syntax reminds NumPy, making the transition from one to another very easy. \n",
    "\n",
    "In contrast to NumPy, Multik is a very \"young\" (v0.1.0 is dated to October 11th, 2021) and its stability and  performances and can be worst than NumPy's."
   ]
  },
  {
   "cell_type": "markdown",
   "id": "bd414918-b683-4612-8edc-7ca1d8872013",
   "metadata": {
    "tags": []
   },
   "source": [
    "Let's jump to some examples, both in Kotlin and Python"
   ]
  },
  {
   "cell_type": "markdown",
   "id": "9c8dbe9c-7251-4c87-8c0a-f13a9343f3af",
   "metadata": {
    "tags": []
   },
   "source": [
    "```{tableofcontents}\n",
    "```"
   ]
  }
 ],
 "metadata": {
  "kernelspec": {
   "display_name": "Kotlin",
   "language": "kotlin",
   "name": "kotlin"
  },
  "language_info": {
   "codemirror_mode": "text/x-kotlin",
   "file_extension": ".kt",
   "mimetype": "text/x-kotlin",
   "name": "kotlin",
   "nbconvert_exporter": "",
   "pygments_lexer": "kotlin",
   "version": "1.8.20"
  }
 },
 "nbformat": 4,
 "nbformat_minor": 5
}
