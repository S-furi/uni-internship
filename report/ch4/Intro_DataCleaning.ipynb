{
 "cells": [
  {
   "cell_type": "markdown",
   "id": "709607f2-1215-4982-9357-b90c5949c209",
   "metadata": {},
   "source": [
    "# Data Cleaning and Preparation"
   ]
  },
  {
   "cell_type": "markdown",
   "id": "63c0fab0-ca1d-4a7f-9a58-e6cf77415c74",
   "metadata": {},
   "source": [
    "Data preparation occupies a significant amount of time of an analyst job. Preparation includes loading, cleaning, transforming and rearranging data, so that data manipulation can be easier to make. \n",
    "\n",
    "With DataFrame and Kotlin's language features, a high-level, flexible, and fast set of tools enable the analyst to manipulate data into the right form."
   ]
  }
 ],
 "metadata": {
  "kernelspec": {
   "display_name": "Kotlin",
   "language": "kotlin",
   "name": "kotlin"
  },
  "language_info": {
   "codemirror_mode": "text/x-kotlin",
   "file_extension": ".kt",
   "mimetype": "text/x-kotlin",
   "name": "kotlin",
   "nbconvert_exporter": "",
   "pygments_lexer": "kotlin",
   "version": "1.8.20"
  }
 },
 "nbformat": 4,
 "nbformat_minor": 5
}
