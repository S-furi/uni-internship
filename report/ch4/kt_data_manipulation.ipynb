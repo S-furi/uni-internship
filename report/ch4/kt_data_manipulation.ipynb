{
 "cells": [
  {
   "cell_type": "markdown",
   "id": "86be9554-9088-4f56-8dd5-273605d6bcc9",
   "metadata": {
    "tags": []
   },
   "source": [
    "# Data Manipulation with Kotlin"
   ]
  }
 ],
 "metadata": {
  "kernelspec": {
   "display_name": "Kotlin",
   "language": "kotlin",
   "name": "kotlin"
  },
  "language_info": {
   "codemirror_mode": "text/x-kotlin",
   "file_extension": ".kt",
   "mimetype": "text/x-kotlin",
   "name": "kotlin",
   "nbconvert_exporter": "",
   "pygments_lexer": "kotlin",
   "version": "1.8.20"
  }
 },
 "nbformat": 4,
 "nbformat_minor": 5
}
