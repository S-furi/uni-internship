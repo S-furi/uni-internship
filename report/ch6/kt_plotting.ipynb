{
 "cells": [
  {
   "cell_type": "markdown",
   "id": "1ba77302-6bb4-4c0f-9a2f-9d8c4be83ca3",
   "metadata": {},
   "source": [
    "# Visualizing Data in Kotlin"
   ]
  }
 ],
 "metadata": {
  "kernelspec": {
   "display_name": "Kotlin",
   "language": "kotlin",
   "name": "kotlin"
  },
  "language_info": {
   "codemirror_mode": "text/x-kotlin",
   "file_extension": ".kt",
   "mimetype": "text/x-kotlin",
   "name": "kotlin",
   "nbconvert_exporter": "",
   "pygments_lexer": "kotlin",
   "version": "1.8.20"
  }
 },
 "nbformat": 4,
 "nbformat_minor": 5
}
