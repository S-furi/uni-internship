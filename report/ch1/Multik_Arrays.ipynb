{
 "cells": [
  {
   "cell_type": "markdown",
   "id": "7b23c907-b80e-4319-8c1a-a8e079c007bb",
   "metadata": {},
   "source": [
    "# Kotlin NDArrays"
   ]
  },
  {
   "cell_type": "markdown",
   "id": "b84c8eec-b8c3-44bf-947a-fcc7a17df0ab",
   "metadata": {},
   "source": [
    "Thanks to **Multik** and the standard Collections library, it's easy to create, access and manipulate N-dimensional arrays and matrices."
   ]
  },
  {
   "cell_type": "markdown",
   "id": "c30178c7-1666-4dfb-8884-d50e8d15c970",
   "metadata": {},
   "source": [
    "You can import Multik using Jupyter's magic command `%use`, for importing Multik library and dependencies."
   ]
  },
  {
   "cell_type": "code",
   "execution_count": 1,
   "id": "29763d96-6546-4ebd-b7d9-e51ce24f9a89",
   "metadata": {
    "tags": []
   },
   "outputs": [],
   "source": [
    "%use multik"
   ]
  },
  {
   "cell_type": "markdown",
   "id": "851b340c-3879-4c7d-a3fd-0293a148b2a8",
   "metadata": {},
   "source": [
    "We can create a simple 1D array as follows (type declaration is not mandatory)"
   ]
  },
  {
   "cell_type": "code",
   "execution_count": 3,
   "id": "bc1791f5-c00f-42ae-b9c9-b554c38408b4",
   "metadata": {
    "tags": []
   },
   "outputs": [
    {
     "data": {
      "text/plain": [
       "[0.0, 1.0, 2.0, 3.0, 4.0, 5.0, 6.0, 7.0, 8.0, 9.0]"
      ]
     },
     "execution_count": 3,
     "metadata": {},
     "output_type": "execute_result"
    }
   ],
   "source": [
    "val arr: NDArray<Double, D1> = mk.arange(10)\n",
    "arr"
   ]
  }
 ],
 "metadata": {
  "kernelspec": {
   "display_name": "Kotlin",
   "language": "kotlin",
   "name": "kotlin"
  },
  "language_info": {
   "codemirror_mode": "text/x-kotlin",
   "file_extension": ".kt",
   "mimetype": "text/x-kotlin",
   "name": "kotlin",
   "nbconvert_exporter": "",
   "pygments_lexer": "kotlin",
   "version": "1.8.20"
  }
 },
 "nbformat": 4,
 "nbformat_minor": 5
}
