{
 "cells": [
  {
   "cell_type": "markdown",
   "id": "7b23c907-b80e-4319-8c1a-a8e079c007bb",
   "metadata": {},
   "source": [
    "# Kotlin NDArrays"
   ]
  },
  {
   "cell_type": "markdown",
   "id": "b84c8eec-b8c3-44bf-947a-fcc7a17df0ab",
   "metadata": {},
   "source": [
    "Thanks to **Multik** and the standard Collections library, it's easy to create, access and manipulate N-dimensional arrays and matrices."
   ]
  },
  {
   "cell_type": "markdown",
   "id": "c30178c7-1666-4dfb-8884-d50e8d15c970",
   "metadata": {},
   "source": [
    "You can import Multik using Jupyter's magic command `%use`, for importing Multik library and dependencies."
   ]
  },
  {
   "cell_type": "code",
   "execution_count": 1,
   "id": "29763d96-6546-4ebd-b7d9-e51ce24f9a89",
   "metadata": {
    "tags": []
   },
   "outputs": [],
   "source": [
    "q%use multik"
   ]
  },
  {
   "cell_type": "markdown",
   "id": "851b340c-3879-4c7d-a3fd-0293a148b2a8",
   "metadata": {},
   "source": [
    "We can create a simple 1D array as follows (type declaration is not mandatory)"
   ]
  },
  {
   "cell_type": "code",
   "execution_count": 2,
   "id": "a9da246a-f025-4e7f-8f8b-9fe5d0511d02",
   "metadata": {
    "tags": []
   },
   "outputs": [
    {
     "data": {
      "text/plain": [
       "[1, 2, 3]"
      ]
     },
     "execution_count": 2,
     "metadata": {},
     "output_type": "execute_result"
    }
   ],
   "source": [
    "val arr: NDArray<Int, D1> = mk.ndarray(mk[1, 2, 3])\n",
    "arr"
   ]
  },
  {
   "cell_type": "markdown",
   "id": "9f974f8a-c82e-40f0-933b-1c021fe9ba18",
   "metadata": {},
   "source": [
    "Notice the type definition of the Array, where we must specify:\n",
    "- **Type**: Any Kotlin subtype of `Number` (`Boolean` is not permitted).\n",
    "- **Dimension**: Multik defines 5 `Dimension` types: `D1`, `D2`, `D3`, `D4`, `DN`. `DN` is used in all the cases where the dimension is not known in advance, or when the dimension size is major than 4."
   ]
  },
  {
   "cell_type": "markdown",
   "id": "dd56211a-73c5-462e-bb1c-0352422ccdd5",
   "metadata": {},
   "source": [
    "In the same way, we can create a 2 dimensional array, but this time we let the compiler infer the type and dimension"
   ]
  },
  {
   "cell_type": "code",
   "execution_count": 3,
   "id": "33074075-db2d-4401-977a-6b251b89823e",
   "metadata": {
    "tags": []
   },
   "outputs": [
    {
     "data": {
      "text/plain": [
       "[[1, 2, 3],\n",
       "[4, 5, 6]]"
      ]
     },
     "execution_count": 3,
     "metadata": {},
     "output_type": "execute_result"
    }
   ],
   "source": [
    "val arr = mk.ndarray(mk[mk[1, 2, 3], mk[4, 5, 6]])\n",
    "arr"
   ]
  },
  {
   "cell_type": "markdown",
   "id": "ce0a1b04-9eba-41aa-bb63-920b56f2d180",
   "metadata": {},
   "source": [
    "We can also create an array from *Kotlin Collections* **List** or **Set**"
   ]
  },
  {
   "cell_type": "code",
   "execution_count": 4,
   "id": "ec57c660-e3fe-4a3e-b801-428edb87a432",
   "metadata": {
    "tags": []
   },
   "outputs": [
    {
     "data": {
      "text/plain": [
       "[1, 2, 3]"
      ]
     },
     "execution_count": 4,
     "metadata": {},
     "output_type": "execute_result"
    }
   ],
   "source": [
    "val arr = mk.ndarray(listOf(1, 2, 3))\n",
    "arr"
   ]
  },
  {
   "cell_type": "markdown",
   "id": "f4b45f56-d6d6-431d-b9b7-55253cb0ba86",
   "metadata": {},
   "source": [
    "## Creation"
   ]
  },
  {
   "cell_type": "markdown",
   "id": "2b0c84d1-200f-439d-a2ab-bbc18930fe9c",
   "metadata": {},
   "source": [
    "We will go through simple `NDArrays` creation methods."
   ]
  },
  {
   "cell_type": "markdown",
   "id": "e923f264-540f-416a-abd3-547c3fa433e0",
   "metadata": {
    "tags": []
   },
   "source": [
    "Creating equally spaced arrays with `arange` and `linspace`"
   ]
  },
  {
   "cell_type": "code",
   "execution_count": 5,
   "id": "aafd5464-9c55-430e-b4bb-f691b29b7ea4",
   "metadata": {
    "tags": []
   },
   "outputs": [
    {
     "name": "stdout",
     "output_type": "stream",
     "text": [
      "a -> [0.0, 0.25, 0.5, 0.75, 1.0]\n",
      "b -> [0, 2, 4, 6, 8]\n"
     ]
    }
   ],
   "source": [
    "val a = mk.linspace<Double>(0, 1, 5)\n",
    "val b = mk.arange<Int>(0, 10, 2)\n",
    "\n",
    "println(\"a -> $a\")\n",
    "println(\"b -> $b\")"
   ]
  },
  {
   "cell_type": "markdown",
   "id": "ccc39b52-3705-42ba-bb26-1463d09b8140",
   "metadata": {
    "tags": []
   },
   "source": [
    "Generating an array of Zeros and Ones"
   ]
  },
  {
   "cell_type": "code",
   "execution_count": 6,
   "id": "4acda407-9526-4326-8713-2592a538afb3",
   "metadata": {
    "tags": []
   },
   "outputs": [
    {
     "name": "stdout",
     "output_type": "stream",
     "text": [
      "Zeros ->[0.0, 0.0, 0.0, 0.0, 0.0, 0.0, 0.0, 0.0, 0.0, 0.0]\n",
      "Ones -> [1.0, 1.0, 1.0, 1.0, 1.0, 1.0, 1.0, 1.0, 1.0, 1.0]\n"
     ]
    }
   ],
   "source": [
    "val zrs = mk.zeros<Double>(10)\n",
    "val ons = mk.ones<Double>(10)\n",
    "println(\"Zeros ->$zrs\")\n",
    "println(\"Ones -> $ons\")"
   ]
  },
  {
   "cell_type": "markdown",
   "id": "ccc4d509-5c96-4539-8a99-44d53dde250f",
   "metadata": {},
   "source": [
    "We can then map the array to a matrix using the `reshape` method, which takes in input an arbitrary number of dimensions size along which the array will be mapped. "
   ]
  },
  {
   "cell_type": "code",
   "execution_count": 7,
   "id": "5ff389d2-dae8-46f2-81d8-a1636098388a",
   "metadata": {
    "tags": []
   },
   "outputs": [
    {
     "data": {
      "text/plain": [
       "[[[0, 0, 0, 0, 0],\n",
       "[0, 0, 0, 0, 0],\n",
       "[0, 0, 0, 0, 0],\n",
       "[0, 0, 0, 0, 0],\n",
       "[0, 0, 0, 0, 0]],\n",
       "\n",
       "[[0, 0, 0, 0, 0],\n",
       "[0, 0, 0, 0, 0],\n",
       "[0, 0, 0, 0, 0],\n",
       "[0, 0, 0, 0, 0],\n",
       "[0, 0, 0, 0, 0]]]"
      ]
     },
     "execution_count": 7,
     "metadata": {},
     "output_type": "execute_result"
    }
   ],
   "source": [
    "mk.zeros<Int>(50).reshape(2, 5, 5) // three dimensional matrix with (z, x, y) = (2, 5, 5)"
   ]
  },
  {
   "cell_type": "markdown",
   "id": "abb3845b-575f-4f3a-b825-b9e1cb3ba614",
   "metadata": {},
   "source": [
    "It's also possible to create an `NDArray` providing a **lambda** for constructing it, considering that the matrix will be built upon a `arange` vector."
   ]
  },
  {
   "cell_type": "code",
   "execution_count": 8,
   "id": "85cee6c5-7ac1-4699-8004-6dc79811905d",
   "metadata": {
    "tags": []
   },
   "outputs": [
    {
     "data": {
      "text/plain": [
       "[[[0, 1, 0, 1, 0],\n",
       "[1, 0, 1, 0, 1],\n",
       "[0, 1, 0, 1, 0],\n",
       "[1, 0, 1, 0, 1],\n",
       "[0, 1, 0, 1, 0]],\n",
       "\n",
       "[[1, 0, 1, 0, 1],\n",
       "[0, 1, 0, 1, 0],\n",
       "[1, 0, 1, 0, 1],\n",
       "[0, 1, 0, 1, 0],\n",
       "[1, 0, 1, 0, 1]]]"
      ]
     },
     "execution_count": 8,
     "metadata": {},
     "output_type": "execute_result"
    }
   ],
   "source": [
    "mk.d3array(2, 5, 5) { it % 2 }"
   ]
  },
  {
   "cell_type": "markdown",
   "id": "625a2d9e-4799-4b41-a11a-8f71c35c17fa",
   "metadata": {},
   "source": [
    "Same as"
   ]
  },
  {
   "cell_type": "code",
   "execution_count": 9,
   "id": "089c53b6-ec01-420c-9fe2-d68013a39cff",
   "metadata": {
    "tags": []
   },
   "outputs": [
    {
     "data": {
      "text/plain": [
       "[[[0, 1, 0, 1, 0],\n",
       "[1, 0, 1, 0, 1],\n",
       "[0, 1, 0, 1, 0],\n",
       "[1, 0, 1, 0, 1],\n",
       "[0, 1, 0, 1, 0]],\n",
       "\n",
       "[[1, 0, 1, 0, 1],\n",
       "[0, 1, 0, 1, 0],\n",
       "[1, 0, 1, 0, 1],\n",
       "[0, 1, 0, 1, 0],\n",
       "[1, 0, 1, 0, 1]]]"
      ]
     },
     "execution_count": 9,
     "metadata": {},
     "output_type": "execute_result"
    }
   ],
   "source": [
    "mk.arange<Int>(50).map { it % 2 }.reshape(2, 5, 5)"
   ]
  },
  {
   "cell_type": "markdown",
   "id": "18879dd0-b4a1-4913-ad62-139aefee0af3",
   "metadata": {},
   "source": [
    "### Arithmetic with NDArrays"
   ]
  },
  {
   "cell_type": "markdown",
   "id": "62538146-f259-48c7-b9bb-549e04dccd55",
   "metadata": {},
   "source": [
    "In the current version of Multik, an `NDArray` object support all arithmetic operations, enabling what are called as **vectorized** operations.\n",
    "Vectorization is very convenient because enable the user to express batch operations on data without writing any for loops (and also could possibly enhance performances)."
   ]
  },
  {
   "cell_type": "code",
   "execution_count": 12,
   "id": "c043daf0-169c-4730-b867-1519b76b9502",
   "metadata": {
    "tags": []
   },
   "outputs": [
    {
     "data": {
      "text/plain": [
       "[[1.0, 2.0, 3.0],\n",
       "[4.0, 5.0, 6.0]]"
      ]
     },
     "execution_count": 12,
     "metadata": {},
     "output_type": "execute_result"
    }
   ],
   "source": [
    "val arr = mk.ndarray(mk[mk[1.0, 2.0, 3.0], mk[4.0, 5.0, 6.0]])\n",
    "arr"
   ]
  },
  {
   "cell_type": "code",
   "execution_count": 36,
   "id": "7f65213d-d2b6-436c-b745-a013263c255b",
   "metadata": {
    "tags": []
   },
   "outputs": [
    {
     "data": {
      "text/plain": [
       "[[1.0, 4.0, 9.0],\n",
       "[16.0, 25.0, 36.0]]"
      ]
     },
     "execution_count": 36,
     "metadata": {},
     "output_type": "execute_result"
    }
   ],
   "source": [
    "arr * arr"
   ]
  },
  {
   "cell_type": "code",
   "execution_count": 37,
   "id": "7aa0e6b7-f161-48b5-aaee-8cc613408ddd",
   "metadata": {
    "tags": []
   },
   "outputs": [
    {
     "data": {
      "text/plain": [
       "[[1.0, 0.5, 0.3333333333333333],\n",
       "[0.25, 0.2, 0.16666666666666666]]"
      ]
     },
     "execution_count": 37,
     "metadata": {},
     "output_type": "execute_result"
    }
   ],
   "source": [
    "1.0 / arr"
   ]
  },
  {
   "cell_type": "code",
   "execution_count": 76,
   "id": "5052efb5-f633-4ab5-8f39-da4d3e747ceb",
   "metadata": {
    "tags": []
   },
   "outputs": [
    {
     "data": {
      "text/plain": [
       "[[14.0, 32.0],\n",
       "[32.0, 77.0]]"
      ]
     },
     "execution_count": 76,
     "metadata": {},
     "output_type": "execute_result"
    }
   ],
   "source": [
    "arr dot arr.transpose()"
   ]
  },
  {
   "cell_type": "markdown",
   "id": "1562a743-826e-4a3c-a050-53ba4ead8318",
   "metadata": {},
   "source": [
    "````{margin}\n",
    "```{warning}\n",
    "Operations among equal shaped arrays and matrices are always allowed. As the current version of Multik (v0.2.0), there is no native support for array **broadcasting**.\n",
    "In section K (some ref to where i could explain how to) I explain how to archieve array broadcasting using tensor algebra provided by [Kmath](https://github.com/SciProgCentre/kmath)\n",
    "```\n",
    "````"
   ]
  },
  {
   "cell_type": "markdown",
   "id": "07b511f8-2e1f-48ac-8c76-bdf1580059a5",
   "metadata": {},
   "source": [
    "Multik supports two separate packages for linear algebra basic operations (package `api.linalg`) and vectorized math operations (package `api.math`)"
   ]
  },
  {
   "cell_type": "code",
   "execution_count": 234,
   "id": "9a883ae4-c8c8-48ef-9c45-e0395411f4b8",
   "metadata": {
    "tags": []
   },
   "outputs": [
    {
     "data": {
      "text/plain": [
       "[[1.0, 3.0, 6.0],\n",
       "[4.0, 9.0, 15.0]]"
      ]
     },
     "execution_count": 234,
     "metadata": {},
     "output_type": "execute_result"
    }
   ],
   "source": [
    "mk.math.cumSum(arr, axis = 1)"
   ]
  },
  {
   "cell_type": "code",
   "execution_count": 235,
   "id": "17f3a86a-4c36-44f7-a05f-7c611940f4e1",
   "metadata": {},
   "outputs": [
    {
     "data": {
      "text/plain": [
       "3.0"
      ]
     },
     "execution_count": 235,
     "metadata": {},
     "output_type": "execute_result"
    }
   ],
   "source": [
    "val sqrMat = mk.ones<Double>(3, 3)\n",
    "// Frobenius norm of the matrix (default when calling `norm()`)\n",
    "mk.linalg.norm(sqrMat, norm = Norm.Fro)"
   ]
  },
  {
   "cell_type": "code",
   "execution_count": 236,
   "id": "b1c830f5-cd11-4739-94b2-28cd45109614",
   "metadata": {
    "tags": []
   },
   "outputs": [
    {
     "data": {
      "text/plain": [
       "[[0.8414709848078965, 0.9092974268256817, 0.1411200080598672],\n",
       "[-0.7568024953079283, -0.9589242746631385, -0.27941549819892586]]"
      ]
     },
     "execution_count": 236,
     "metadata": {},
     "output_type": "execute_result"
    }
   ],
   "source": [
    "mk.math.sin(arr)"
   ]
  },
  {
   "cell_type": "markdown",
   "id": "2954ca89-4e6b-46df-9c20-6dae82090e94",
   "metadata": {},
   "source": [
    "The `linalg` package contains also methods for solving linear matrix equations and matrix decomposition methods."
   ]
  },
  {
   "cell_type": "code",
   "execution_count": 237,
   "id": "cc3a05f5-414c-4415-97f3-2c0c91216ec1",
   "metadata": {
    "tags": []
   },
   "outputs": [
    {
     "name": "stdout",
     "output_type": "stream",
     "text": [
      " x = [0, 6, 12]\n"
     ]
    },
    {
     "data": {
      "text/plain": [
       "true"
      ]
     },
     "execution_count": 237,
     "metadata": {},
     "output_type": "execute_result"
    }
   ],
   "source": [
    "// solve the linear system\n",
    "val a = mk.d2array(3, 3) { it * it }.asType<Double>()\n",
    "val b = mk.ndarray(mk[54.0, 396.0, 1062.0])\n",
    "\n",
    "val res = mk.linalg.solve(a, b).map { it.roundToInt() }\n",
    "println(\" x = $res\")\n",
    "\n",
    "// check\n",
    "(a dot res.asType<Double>()) == b\n"
   ]
  },
  {
   "cell_type": "markdown",
   "id": "e15f9b88-0e7a-4ef7-bce5-2be3933df833",
   "metadata": {
    "tags": []
   },
   "source": [
    "For more, visit Multik's documentation for [`linalg`](https://kotlin.github.io/multik/multik-core/org.jetbrains.kotlinx.multik.api.linalg/index.html) and [`math`](https://kotlin.github.io/multik/multik-core/org.jetbrains.kotlinx.multik.api.math/index.html)"
   ]
  },
  {
   "cell_type": "markdown",
   "id": "69002f79-85f1-4c2d-9155-513da2bd79ad",
   "metadata": {},
   "source": [
    "### Indexing and Slicing"
   ]
  },
  {
   "cell_type": "markdown",
   "id": "92cc8e3f-5c1b-46a5-8427-cc69d40dc7d4",
   "metadata": {},
   "source": [
    "There are many ways to select subset of data of and `NDArray`.\n",
    "\n",
    "For one dimensional arrays is straightforward:"
   ]
  },
  {
   "cell_type": "code",
   "execution_count": 240,
   "id": "fda6eb88-11ff-44c9-bc48-b0230dfcf337",
   "metadata": {
    "tags": []
   },
   "outputs": [
    {
     "data": {
      "text/plain": [
       "[0, 1, 2, 3, 4, 5, 6, 7, 8, 9]"
      ]
     },
     "execution_count": 240,
     "metadata": {},
     "output_type": "execute_result"
    }
   ],
   "source": [
    "val arr = mk.arange<Int>(10)\n",
    "arr"
   ]
  },
  {
   "cell_type": "code",
   "execution_count": 241,
   "id": "35b2406d-db80-47a2-997e-ba3536797ffa",
   "metadata": {
    "tags": []
   },
   "outputs": [
    {
     "data": {
      "text/plain": [
       "2"
      ]
     },
     "execution_count": 241,
     "metadata": {},
     "output_type": "execute_result"
    }
   ],
   "source": [
    "// basic indexing\n",
    "arr[2]"
   ]
  },
  {
   "cell_type": "code",
   "execution_count": 268,
   "id": "50884a53-6078-4526-ae4f-7352c0a0fce9",
   "metadata": {
    "tags": []
   },
   "outputs": [
    {
     "name": "stdout",
     "output_type": "stream",
     "text": [
      "[1, 2, 3]\n",
      "[1, 2]\n"
     ]
    }
   ],
   "source": [
    "// range indexing\n",
    "println(arr[1..3])\n",
    "// the behavior is different using kotlin keyword `until`\n",
    "println(arr[1 until 3])"
   ]
  },
  {
   "cell_type": "markdown",
   "id": "95e02ad4-5feb-40f7-81db-a095c6f7f167",
   "metadata": {},
   "source": [
    "For Multi-Index arrays the *range* operator can be used like:"
   ]
  },
  {
   "cell_type": "code",
   "execution_count": 297,
   "id": "8c663259-c869-4b94-bfa4-1c36d06cd55e",
   "metadata": {
    "tags": []
   },
   "outputs": [
    {
     "data": {
      "text/plain": [
       "[0, 4, 8]"
      ]
     },
     "execution_count": 297,
     "metadata": {},
     "output_type": "execute_result"
    }
   ],
   "source": [
    "val a = mk.linspace<Int>(0, 20, 10).reshape(5, 2)\n",
    "\n",
    "// single elemt selection\n",
    "a[3, 1]\n",
    "// row selection\n",
    "a[0]\n",
    "// range selection left inclusive\n",
    "a[0..2] // != a[0 until 2] -> left exlusive\n",
    "// selecting first column of first 3 rows\n",
    "a[0..2, 0]"
   ]
  },
  {
   "cell_type": "markdown",
   "id": "cf03f57d-b711-40e9-a1f4-364255f559d3",
   "metadata": {},
   "source": [
    "```{warning}\n",
    "Slices are **copies** of the source array, unlike NumPy that generates a *view* on the original array.\n",
    "```kotlin\n",
    "var b = a[0..2, 0]\n",
    "a[0..2, 0] === b // false!\n",
    "```\n",
    "```"
   ]
  },
  {
   "cell_type": "markdown",
   "id": "019dde71-6a08-4eff-ab37-66cbbbd2ffc8",
   "metadata": {},
   "source": [
    "`NDArrays` does not support boolean indexing, but filters can be applied with the `filter()` method, like every `Collection` in Kotlin's standard library.\n",
    "\n",
    "For each \"indexed functional method\" that can be applied to kotlin collections, like `mapIndexed`, `forEachIndexed`, `filterIndexed`, Multik offers the counterpart for multidimensional arrays (of the form `*MultiIndexed()`), where the index is an `intArray()` of the combination of the indices of the current element.\n",
    "\n",
    "A full list of those methods, and more, can be found int the [`ndarray.operations`](https://kotlin.github.io/multik/multik-core/org.jetbrains.kotlinx.multik.ndarray.operations/index.html) package."
   ]
  }
 ],
 "metadata": {
  "kernelspec": {
   "display_name": "Kotlin",
   "language": "kotlin",
   "name": "kotlin"
  },
  "language_info": {
   "codemirror_mode": "text/x-kotlin",
   "file_extension": ".kt",
   "mimetype": "text/x-kotlin",
   "name": "kotlin",
   "nbconvert_exporter": "",
   "pygments_lexer": "kotlin",
   "version": "1.8.20"
  }
 },
 "nbformat": 4,
 "nbformat_minor": 5
}
