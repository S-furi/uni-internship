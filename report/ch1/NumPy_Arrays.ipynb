{
 "cells": [
  {
   "cell_type": "markdown",
   "id": "44f7ebfc-d949-4dc7-9cce-0086c7fedea0",
   "metadata": {},
   "source": [
    "# Python NDArrays"
   ]
  },
  {
   "cell_type": "markdown",
   "id": "9b708b01-9cc9-4643-b18f-924403f8f46b",
   "metadata": {},
   "source": [
    "Python rely on **NumPy** data structures for working with N-dimensional arrays and matrices. NumPy has been developed since the '90s, and it's mainly implemented using **C** programming language structures, resulting in a very fast optimized library even if it runs on python ( if *Vectorized*  operations are used massively)."
   ]
  },
  {
   "cell_type": "markdown",
   "id": "e770289f-9e97-4cf4-938a-8192d7f0ed67",
   "metadata": {},
   "source": [
    "We import NumPy with the convention of calling the package `np`:"
   ]
  },
  {
   "cell_type": "code",
   "execution_count": 3,
   "id": "fd4d020a-d50c-446b-b3e3-b48eb9039aff",
   "metadata": {
    "tags": []
   },
   "outputs": [],
   "source": [
    "import numpy as np"
   ]
  },
  {
   "cell_type": "markdown",
   "id": "b58742f1-3ccd-4a99-9b0a-e341a0a9706d",
   "metadata": {},
   "source": [
    "As for kotlin, let's see how to create an array of doubles of \\[0..10) elements."
   ]
  },
  {
   "cell_type": "code",
   "execution_count": 5,
   "id": "0f3f9d9b-9153-44ca-ab47-aee29932ae25",
   "metadata": {
    "tags": []
   },
   "outputs": [
    {
     "data": {
      "text/plain": [
       "array([0., 1., 2., 3., 4., 5., 6., 7., 8., 9.])"
      ]
     },
     "execution_count": 5,
     "metadata": {},
     "output_type": "execute_result"
    }
   ],
   "source": [
    "arr = np.arange(10, dtype=np.double)\n",
    "arr"
   ]
  }
 ],
 "metadata": {
  "kernelspec": {
   "display_name": "Python 3 (ipykernel)",
   "language": "python",
   "name": "python3"
  },
  "language_info": {
   "codemirror_mode": {
    "name": "ipython",
    "version": 3
   },
   "file_extension": ".py",
   "mimetype": "text/x-python",
   "name": "python",
   "nbconvert_exporter": "python",
   "pygments_lexer": "ipython3",
   "version": "3.10.9"
  }
 },
 "nbformat": 4,
 "nbformat_minor": 5
}
