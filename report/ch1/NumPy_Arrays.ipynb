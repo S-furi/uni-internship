{
 "cells": [
  {
   "cell_type": "markdown",
   "id": "44f7ebfc-d949-4dc7-9cce-0086c7fedea0",
   "metadata": {},
   "source": [
    "# Python NDArrays"
   ]
  },
  {
   "cell_type": "markdown",
   "id": "9b708b01-9cc9-4643-b18f-924403f8f46b",
   "metadata": {},
   "source": [
    "Python rely on **NumPy** data structures for working with N-dimensional arrays and matrices. NumPy has been developed since the '90s, and it's mainly implemented using **C** programming language structures, resulting in a very fast optimized library even if it runs on python ( if *Vectorized*  operations are used massively)."
   ]
  },
  {
   "cell_type": "markdown",
   "id": "e770289f-9e97-4cf4-938a-8192d7f0ed67",
   "metadata": {},
   "source": [
    "We import NumPy with the convention of calling the package `np`:"
   ]
  },
  {
   "cell_type": "code",
   "execution_count": 1,
   "id": "fd4d020a-d50c-446b-b3e3-b48eb9039aff",
   "metadata": {
    "tags": []
   },
   "outputs": [],
   "source": [
    "import numpy as np"
   ]
  },
  {
   "cell_type": "markdown",
   "id": "b58742f1-3ccd-4a99-9b0a-e341a0a9706d",
   "metadata": {},
   "source": [
    "Let's explore the various ways to create an array in NumPy"
   ]
  },
  {
   "cell_type": "code",
   "execution_count": 9,
   "id": "02ee3d35",
   "metadata": {},
   "outputs": [
    {
     "data": {
      "text/plain": [
       "array([1, 2, 3])"
      ]
     },
     "execution_count": 9,
     "metadata": {},
     "output_type": "execute_result"
    }
   ],
   "source": [
    "np.array([1, 2, 3], dtype=np.int64)"
   ]
  },
  {
   "cell_type": "markdown",
   "id": "1e24f23a",
   "metadata": {},
   "source": [
    "Python can also infer the type (NumPy's `dtype`), so we can avoid specifying the type when creating an array.\n",
    "In the same way as above, let's create a 2 dimensional array"
   ]
  },
  {
   "cell_type": "code",
   "execution_count": 10,
   "id": "e9cb2e30",
   "metadata": {},
   "outputs": [
    {
     "data": {
      "text/plain": [
       "array([[1, 2, 3],\n",
       "       [4, 5, 6]])"
      ]
     },
     "execution_count": 10,
     "metadata": {},
     "output_type": "execute_result"
    }
   ],
   "source": [
    "np.array([(1, 2, 3), (4, 5, 6)])"
   ]
  },
  {
   "cell_type": "markdown",
   "id": "af4433c6",
   "metadata": {},
   "source": [
    "Any \"Array Type like\" is accepted as a parameter to `array` method"
   ]
  },
  {
   "cell_type": "markdown",
   "id": "0c83bebf",
   "metadata": {},
   "source": [
    "## Creation"
   ]
  },
  {
   "cell_type": "markdown",
   "id": "efce0f74",
   "metadata": {},
   "source": [
    "Equally spaced arrays can be created thanks to `arange` and `linspace` methods"
   ]
  },
  {
   "cell_type": "code",
   "execution_count": 37,
   "id": "16e984a1",
   "metadata": {},
   "outputs": [
    {
     "name": "stdout",
     "output_type": "stream",
     "text": [
      "a -> [0.   0.25 0.5  0.75 1.  ]\n",
      "b -> [0 2 4 6 8]\n"
     ]
    }
   ],
   "source": [
    "a = np.linspace(0, 1, 5)\n",
    "b = np.arange(0, 10, 2)\n",
    "print(f'a -> {a}')\n",
    "print(f'b -> {b}')"
   ]
  },
  {
   "cell_type": "markdown",
   "id": "fd210db2",
   "metadata": {},
   "source": [
    "Generating an array of Zeros and Ones"
   ]
  },
  {
   "cell_type": "code",
   "execution_count": 43,
   "id": "828db2ec",
   "metadata": {},
   "outputs": [
    {
     "name": "stdout",
     "output_type": "stream",
     "text": [
      "zrs -> [0. 0. 0. 0. 0. 0. 0. 0. 0. 0.]\n",
      "ons -> [1. 1. 1. 1. 1. 1. 1. 1. 1. 1.]\n"
     ]
    }
   ],
   "source": [
    "zrs = np.zeros(10)\n",
    "ons = np.ones(10)\n",
    "print(f'zrs -> {zrs}')\n",
    "print(f'ons -> {ons}')"
   ]
  },
  {
   "cell_type": "markdown",
   "id": "5f199674",
   "metadata": {},
   "source": [
    "We can reshape a vector to N dimensional matrix thanks to the `reshape` method"
   ]
  },
  {
   "cell_type": "code",
   "execution_count": 44,
   "id": "28b8ec11",
   "metadata": {},
   "outputs": [
    {
     "data": {
      "text/plain": [
       "array([[[0., 0., 0., 0., 0.],\n",
       "        [0., 0., 0., 0., 0.],\n",
       "        [0., 0., 0., 0., 0.],\n",
       "        [0., 0., 0., 0., 0.],\n",
       "        [0., 0., 0., 0., 0.]],\n",
       "\n",
       "       [[0., 0., 0., 0., 0.],\n",
       "        [0., 0., 0., 0., 0.],\n",
       "        [0., 0., 0., 0., 0.],\n",
       "        [0., 0., 0., 0., 0.],\n",
       "        [0., 0., 0., 0., 0.]]])"
      ]
     },
     "execution_count": 44,
     "metadata": {},
     "output_type": "execute_result"
    }
   ],
   "source": [
    "np.zeros(50).reshape(2, 5, 5)"
   ]
  },
  {
   "cell_type": "markdown",
   "id": "d58325c0",
   "metadata": {},
   "source": [
    "Check if keep the following examples, it's not a strict comparison and it's quite unfair..."
   ]
  },
  {
   "cell_type": "markdown",
   "id": "3b37d2e2",
   "metadata": {},
   "source": [
    "We can provide a list comprehension for creating an array as pointed out in Kotlin"
   ]
  },
  {
   "cell_type": "code",
   "execution_count": 56,
   "id": "81847779",
   "metadata": {},
   "outputs": [
    {
     "data": {
      "text/plain": [
       "array([[[0, 1, 0, 1, 0],\n",
       "        [1, 0, 1, 0, 1],\n",
       "        [0, 1, 0, 1, 0],\n",
       "        [1, 0, 1, 0, 1],\n",
       "        [0, 1, 0, 1, 0]],\n",
       "\n",
       "       [[1, 0, 1, 0, 1],\n",
       "        [0, 1, 0, 1, 0],\n",
       "        [1, 0, 1, 0, 1],\n",
       "        [0, 1, 0, 1, 0],\n",
       "        [1, 0, 1, 0, 1]]])"
      ]
     },
     "execution_count": 56,
     "metadata": {},
     "output_type": "execute_result"
    }
   ],
   "source": [
    "np.array([x % 2 for x in range(50)]).reshape(2, 5, 5)"
   ]
  },
  {
   "cell_type": "code",
   "execution_count": 57,
   "id": "2e30c7c0",
   "metadata": {},
   "outputs": [
    {
     "data": {
      "text/plain": [
       "array([[0., 1., 0., 1., 0.],\n",
       "       [1., 0., 1., 0., 1.],\n",
       "       [0., 1., 0., 1., 0.],\n",
       "       [1., 0., 1., 0., 1.],\n",
       "       [0., 1., 0., 1., 0.]])"
      ]
     },
     "execution_count": 57,
     "metadata": {},
     "output_type": "execute_result"
    }
   ],
   "source": [
    "np.fromfunction(lambda i, j: (i + j) % 2, (5, 5))"
   ]
  }
 ],
 "metadata": {
  "kernelspec": {
   "display_name": "Python 3 (ipykernel)",
   "language": "python",
   "name": "python3"
  },
  "language_info": {
   "codemirror_mode": {
    "name": "ipython",
    "version": 3
   },
   "file_extension": ".py",
   "mimetype": "text/x-python",
   "name": "python",
   "nbconvert_exporter": "python",
   "pygments_lexer": "ipython3",
   "version": "3.10.9"
  }
 },
 "nbformat": 4,
 "nbformat_minor": 5
}
