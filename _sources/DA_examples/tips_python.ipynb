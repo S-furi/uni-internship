{
 "cells": [
  {
   "cell_type": "markdown",
   "id": "b679d4b1-eec8-41b8-ac44-673f4428335d",
   "metadata": {},
   "source": [
    "# Python: Tips Dataset"
   ]
  },
  {
   "cell_type": "markdown",
   "id": "467792b4-42f2-4ac1-888e-6dec6401a244",
   "metadata": {},
   "source": [
    "For this example, the following packages will be imported:"
   ]
  },
  {
   "cell_type": "code",
   "execution_count": 1,
   "id": "20ecdf20-b5d4-41d4-81ad-7997d439d2c9",
   "metadata": {
    "tags": []
   },
   "outputs": [],
   "source": [
    "import numpy as np\n",
    "import pandas as pd\n",
    "import matplotlib.pyplot as plt"
   ]
  },
  {
   "cell_type": "markdown",
   "id": "dea1ff5f-273a-402f-a8dc-cb2c86a8dc6d",
   "metadata": {},
   "source": [
    "We load and read the dataset with pandas, and print the first 5 rows"
   ]
  },
  {
   "cell_type": "code",
   "execution_count": 11,
   "id": "34945db2-c1da-4a51-a782-a4a8a6a49aa4",
   "metadata": {
    "tags": []
   },
   "outputs": [
    {
     "data": {
      "text/html": [
       "<div>\n",
       "<style scoped>\n",
       "    .dataframe tbody tr th:only-of-type {\n",
       "        vertical-align: middle;\n",
       "    }\n",
       "\n",
       "    .dataframe tbody tr th {\n",
       "        vertical-align: top;\n",
       "    }\n",
       "\n",
       "    .dataframe thead th {\n",
       "        text-align: right;\n",
       "    }\n",
       "</style>\n",
       "<table border=\"1\" class=\"dataframe\">\n",
       "  <thead>\n",
       "    <tr style=\"text-align: right;\">\n",
       "      <th></th>\n",
       "      <th>total_bill</th>\n",
       "      <th>tip</th>\n",
       "      <th>smoker</th>\n",
       "      <th>day</th>\n",
       "      <th>time</th>\n",
       "      <th>size</th>\n",
       "    </tr>\n",
       "  </thead>\n",
       "  <tbody>\n",
       "    <tr>\n",
       "      <th>0</th>\n",
       "      <td>16.99</td>\n",
       "      <td>1.01</td>\n",
       "      <td>No</td>\n",
       "      <td>Sun</td>\n",
       "      <td>Dinner</td>\n",
       "      <td>2</td>\n",
       "    </tr>\n",
       "    <tr>\n",
       "      <th>1</th>\n",
       "      <td>10.34</td>\n",
       "      <td>1.66</td>\n",
       "      <td>No</td>\n",
       "      <td>Sun</td>\n",
       "      <td>Dinner</td>\n",
       "      <td>3</td>\n",
       "    </tr>\n",
       "    <tr>\n",
       "      <th>2</th>\n",
       "      <td>21.01</td>\n",
       "      <td>3.50</td>\n",
       "      <td>No</td>\n",
       "      <td>Sun</td>\n",
       "      <td>Dinner</td>\n",
       "      <td>3</td>\n",
       "    </tr>\n",
       "    <tr>\n",
       "      <th>3</th>\n",
       "      <td>23.68</td>\n",
       "      <td>3.31</td>\n",
       "      <td>No</td>\n",
       "      <td>Sun</td>\n",
       "      <td>Dinner</td>\n",
       "      <td>2</td>\n",
       "    </tr>\n",
       "    <tr>\n",
       "      <th>4</th>\n",
       "      <td>24.59</td>\n",
       "      <td>3.61</td>\n",
       "      <td>No</td>\n",
       "      <td>Sun</td>\n",
       "      <td>Dinner</td>\n",
       "      <td>4</td>\n",
       "    </tr>\n",
       "  </tbody>\n",
       "</table>\n",
       "</div>"
      ],
      "text/plain": [
       "   total_bill   tip smoker  day    time  size\n",
       "0       16.99  1.01     No  Sun  Dinner     2\n",
       "1       10.34  1.66     No  Sun  Dinner     3\n",
       "2       21.01  3.50     No  Sun  Dinner     3\n",
       "3       23.68  3.31     No  Sun  Dinner     2\n",
       "4       24.59  3.61     No  Sun  Dinner     4"
      ]
     },
     "execution_count": 11,
     "metadata": {},
     "output_type": "execute_result"
    }
   ],
   "source": [
    "tips = pd.read_csv(\"../resources/example-datasets/datasets/tips.csv\")\n",
    "tips.head(5)"
   ]
  },
  {
   "cell_type": "markdown",
   "id": "b22b4ccf-48ba-4ede-9283-8f94e6487536",
   "metadata": {},
   "source": [
    "We can print out some basic information about the dataframe columns' types"
   ]
  },
  {
   "cell_type": "code",
   "execution_count": 12,
   "id": "76538c6f-e438-480c-a2b9-39745e051ec9",
   "metadata": {
    "tags": []
   },
   "outputs": [
    {
     "name": "stdout",
     "output_type": "stream",
     "text": [
      "<class 'pandas.core.frame.DataFrame'>\n",
      "RangeIndex: 244 entries, 0 to 243\n",
      "Data columns (total 6 columns):\n",
      " #   Column      Non-Null Count  Dtype  \n",
      "---  ------      --------------  -----  \n",
      " 0   total_bill  244 non-null    float64\n",
      " 1   tip         244 non-null    float64\n",
      " 2   smoker      244 non-null    object \n",
      " 3   day         244 non-null    object \n",
      " 4   time        244 non-null    object \n",
      " 5   size        244 non-null    int64  \n",
      "dtypes: float64(2), int64(1), object(3)\n",
      "memory usage: 49.3 KB\n"
     ]
    }
   ],
   "source": [
    "tips.info(memory_usage=\"deep\")"
   ]
  },
  {
   "cell_type": "markdown",
   "id": "964d6635-ccbd-4963-80b9-6a6ffa011d3c",
   "metadata": {},
   "source": [
    "And we can see that any `string` value is mapped to an `object` value. We know that those are categorical variables, so we can use less memory specifying the `category` type in a dictionary, and we use it when loading the dataset."
   ]
  },
  {
   "cell_type": "code",
   "execution_count": 13,
   "id": "4e99957b-7d1d-4867-84e6-8764be7f60ce",
   "metadata": {
    "tags": []
   },
   "outputs": [],
   "source": [
    "cat_dtypes = {\n",
    "    \"smoker\": \"category\",\n",
    "    \"day\": \"category\",\n",
    "    \"time\": \"category\",\n",
    "}\n",
    "tips = pd.read_csv(\"../resources/example-datasets/datasets/tips.csv\", dtype=cat_dtypes)"
   ]
  },
  {
   "cell_type": "code",
   "execution_count": 14,
   "id": "be01725f-bb6a-4c2f-b7cf-8a2c46d19b15",
   "metadata": {
    "tags": []
   },
   "outputs": [
    {
     "name": "stdout",
     "output_type": "stream",
     "text": [
      "<class 'pandas.core.frame.DataFrame'>\n",
      "RangeIndex: 244 entries, 0 to 243\n",
      "Data columns (total 6 columns):\n",
      " #   Column      Non-Null Count  Dtype   \n",
      "---  ------      --------------  -----   \n",
      " 0   total_bill  244 non-null    float64 \n",
      " 1   tip         244 non-null    float64 \n",
      " 2   smoker      244 non-null    category\n",
      " 3   day         244 non-null    category\n",
      " 4   time        244 non-null    category\n",
      " 5   size        244 non-null    int64   \n",
      "dtypes: category(3), float64(2), int64(1)\n",
      "memory usage: 7.2 KB\n"
     ]
    }
   ],
   "source": [
    "tips.info(memory_usage=\"deep\")"
   ]
  },
  {
   "cell_type": "markdown",
   "id": "29f56576-46a1-41a0-99ba-c34632fdb8be",
   "metadata": {},
   "source": [
    "And we can see that with this approach, the memory usage dropped from 49.3 KB to 7.2 KB. For small datasets like this, it does not make any difference, but with bigger one this feature can be very useful for not wasting memory."
   ]
  },
  {
   "cell_type": "markdown",
   "id": "2de76bc6-0596-4ea3-b255-88b44e51392d",
   "metadata": {},
   "source": [
    "We can compute some basic statistics an all values using the `describe()` method"
   ]
  },
  {
   "cell_type": "code",
   "execution_count": 15,
   "id": "14ae53ae-f989-4467-a263-f568f058a21f",
   "metadata": {
    "tags": []
   },
   "outputs": [
    {
     "data": {
      "text/html": [
       "<div>\n",
       "<style scoped>\n",
       "    .dataframe tbody tr th:only-of-type {\n",
       "        vertical-align: middle;\n",
       "    }\n",
       "\n",
       "    .dataframe tbody tr th {\n",
       "        vertical-align: top;\n",
       "    }\n",
       "\n",
       "    .dataframe thead th {\n",
       "        text-align: right;\n",
       "    }\n",
       "</style>\n",
       "<table border=\"1\" class=\"dataframe\">\n",
       "  <thead>\n",
       "    <tr style=\"text-align: right;\">\n",
       "      <th></th>\n",
       "      <th>total_bill</th>\n",
       "      <th>tip</th>\n",
       "      <th>size</th>\n",
       "    </tr>\n",
       "  </thead>\n",
       "  <tbody>\n",
       "    <tr>\n",
       "      <th>count</th>\n",
       "      <td>244.000000</td>\n",
       "      <td>244.000000</td>\n",
       "      <td>244.000000</td>\n",
       "    </tr>\n",
       "    <tr>\n",
       "      <th>mean</th>\n",
       "      <td>19.785943</td>\n",
       "      <td>2.998279</td>\n",
       "      <td>2.569672</td>\n",
       "    </tr>\n",
       "    <tr>\n",
       "      <th>std</th>\n",
       "      <td>8.902412</td>\n",
       "      <td>1.383638</td>\n",
       "      <td>0.951100</td>\n",
       "    </tr>\n",
       "    <tr>\n",
       "      <th>min</th>\n",
       "      <td>3.070000</td>\n",
       "      <td>1.000000</td>\n",
       "      <td>1.000000</td>\n",
       "    </tr>\n",
       "    <tr>\n",
       "      <th>25%</th>\n",
       "      <td>13.347500</td>\n",
       "      <td>2.000000</td>\n",
       "      <td>2.000000</td>\n",
       "    </tr>\n",
       "    <tr>\n",
       "      <th>50%</th>\n",
       "      <td>17.795000</td>\n",
       "      <td>2.900000</td>\n",
       "      <td>2.000000</td>\n",
       "    </tr>\n",
       "    <tr>\n",
       "      <th>75%</th>\n",
       "      <td>24.127500</td>\n",
       "      <td>3.562500</td>\n",
       "      <td>3.000000</td>\n",
       "    </tr>\n",
       "    <tr>\n",
       "      <th>max</th>\n",
       "      <td>50.810000</td>\n",
       "      <td>10.000000</td>\n",
       "      <td>6.000000</td>\n",
       "    </tr>\n",
       "  </tbody>\n",
       "</table>\n",
       "</div>"
      ],
      "text/plain": [
       "       total_bill         tip        size\n",
       "count  244.000000  244.000000  244.000000\n",
       "mean    19.785943    2.998279    2.569672\n",
       "std      8.902412    1.383638    0.951100\n",
       "min      3.070000    1.000000    1.000000\n",
       "25%     13.347500    2.000000    2.000000\n",
       "50%     17.795000    2.900000    2.000000\n",
       "75%     24.127500    3.562500    3.000000\n",
       "max     50.810000   10.000000    6.000000"
      ]
     },
     "execution_count": 15,
     "metadata": {},
     "output_type": "execute_result"
    }
   ],
   "source": [
    "tips.describe()"
   ]
  },
  {
   "cell_type": "markdown",
   "id": "03fefde5-6470-4994-9ff2-a658b98c2dee",
   "metadata": {},
   "source": [
    "Let's compute some more domain specific statistics"
   ]
  },
  {
   "cell_type": "markdown",
   "id": "5c534f9d-b6f3-468f-b21c-08d096768fe9",
   "metadata": {},
   "source": [
    "1. Percentage of smokers"
   ]
  },
  {
   "cell_type": "code",
   "execution_count": 16,
   "id": "15a64194-f5af-42f8-84f1-19ade0ace9ef",
   "metadata": {
    "tags": []
   },
   "outputs": [
    {
     "data": {
      "text/plain": [
       "smoker\n",
       "No     0.618852\n",
       "Yes    0.381148\n",
       "Name: proportion, dtype: float64"
      ]
     },
     "execution_count": 16,
     "metadata": {},
     "output_type": "execute_result"
    }
   ],
   "source": [
    "tips[\"smoker\"].value_counts(normalize=True)"
   ]
  },
  {
   "cell_type": "markdown",
   "id": "25698a2a-317c-40d9-8e2e-70f02c2a0dcd",
   "metadata": {},
   "source": [
    "2. All data about the most expensive `total_bill`"
   ]
  },
  {
   "cell_type": "code",
   "execution_count": 22,
   "id": "3ff38d70-e8b4-4dfd-83db-abe3614198df",
   "metadata": {
    "tags": []
   },
   "outputs": [
    {
     "data": {
      "text/plain": [
       "total_bill     50.81\n",
       "tip             10.0\n",
       "smoker           Yes\n",
       "day              Sat\n",
       "time          Dinner\n",
       "size               3\n",
       "Name: 170, dtype: object"
      ]
     },
     "execution_count": 22,
     "metadata": {},
     "output_type": "execute_result"
    }
   ],
   "source": [
    "tips.iloc[tips[\"total_bill\"].idxmax()]"
   ]
  },
  {
   "cell_type": "markdown",
   "id": "24fc7bd6-f3ed-4eb3-b723-a627fd505016",
   "metadata": {},
   "source": [
    "3. Get the highest bill per person (`size`) in a table"
   ]
  },
  {
   "cell_type": "code",
   "execution_count": 25,
   "id": "191a0be4-8902-4aac-901b-a9d85795d443",
   "metadata": {
    "tags": []
   },
   "outputs": [
    {
     "data": {
      "text/plain": [
       "20.275"
      ]
     },
     "execution_count": 25,
     "metadata": {},
     "output_type": "execute_result"
    }
   ],
   "source": [
    "(tips[\"total_bill\"] / tips[\"size\"]).max()"
   ]
  },
  {
   "cell_type": "markdown",
   "id": "2dbab26c-fa5f-40c3-96bd-2fe20418e881",
   "metadata": {},
   "source": [
    "4. Group `total_bill` in 10 equally spaced ranges, and counting the number of bills in each range."
   ]
  },
  {
   "cell_type": "code",
   "execution_count": 118,
   "id": "12f9e022-fcc2-4688-91cb-be0ebe3c70bc",
   "metadata": {
    "tags": []
   },
   "outputs": [
    {
     "data": {
      "text/plain": [
       "total_bill\n",
       "(0.0, 5.0]       1\n",
       "(5.0, 10.0]     16\n",
       "(10.0, 15.0]    63\n",
       "(15.0, 20.0]    67\n",
       "(20.0, 25.0]    42\n",
       "(25.0, 30.0]    23\n",
       "(30.0, 35.0]    16\n",
       "(35.0, 40.0]     6\n",
       "(40.0, 45.0]     5\n",
       "(45.0, 50.0]     4\n",
       "Name: count, dtype: int64"
      ]
     },
     "execution_count": 118,
     "metadata": {},
     "output_type": "execute_result"
    }
   ],
   "source": [
    "ranges = np.arange(0, tips[\"total_bill\"].max(), 5)\n",
    "billRanges = pd.cut(tips[\"total_bill\"], ranges).value_counts().sort_index()\n",
    "billRanges"
   ]
  },
  {
   "cell_type": "markdown",
   "id": "7cbd615b-c621-4996-a60a-90b3048c83cc",
   "metadata": {},
   "source": [
    "We can graph them easily with:"
   ]
  },
  {
   "cell_type": "code",
   "execution_count": 119,
   "id": "d2b1c03f-f1a0-4b5c-9f07-7988c34a1936",
   "metadata": {
    "tags": []
   },
   "outputs": [
    {
     "data": {
      "text/plain": [
       "<Axes: title={'center': 'Total Bills Distribution'}, xlabel='total_bill', ylabel='count'>"
      ]
     },
     "execution_count": 119,
     "metadata": {},
     "output_type": "execute_result"
    },
    {
     "data": {
      "image/png": "[encoded data removed]",
      "text/plain": [
       "<Figure size 640x480 with 1 Axes>"
      ]
     },
     "metadata": {},
     "output_type": "display_data"
    }
   ],
   "source": [
    "billRanges.plot(kind=\"bar\", grid=True, title=\"Total Bills Distribution\", ylabel=\"count\")"
   ]
  }
 ],
 "metadata": {
  "kernelspec": {
   "display_name": "Python 3 (ipykernel)",
   "language": "python",
   "name": "python3"
  },
  "language_info": {
   "codemirror_mode": {
    "name": "ipython",
    "version": 3
   },
   "file_extension": ".py",
   "mimetype": "text/x-python",
   "name": "python",
   "nbconvert_exporter": "python",
   "pygments_lexer": "ipython3",
   "version": "3.10.9"
  }
 },
 "nbformat": 4,
 "nbformat_minor": 5
}
