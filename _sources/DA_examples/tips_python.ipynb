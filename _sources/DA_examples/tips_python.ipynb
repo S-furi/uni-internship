{
 "cells": [
  {
   "cell_type": "markdown",
   "id": "b679d4b1-eec8-41b8-ac44-673f4428335d",
   "metadata": {},
   "source": [
    "# Python: Tips Dataset"
   ]
  }
 ],
 "metadata": {
  "kernelspec": {
   "display_name": "Python 3 (ipykernel)",
   "language": "python",
   "name": "python3"
  },
  "language_info": {
   "codemirror_mode": {
    "name": "ipython",
    "version": 3
   },
   "file_extension": ".py",
   "mimetype": "text/x-python",
   "name": "python",
   "nbconvert_exporter": "python",
   "pygments_lexer": "ipython3",
   "version": "3.10.9"
  }
 },
 "nbformat": 4,
 "nbformat_minor": 5
}
