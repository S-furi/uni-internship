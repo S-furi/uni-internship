{
 "cells": [
  {
   "cell_type": "markdown",
   "id": "961a4e24-99f5-4e49-bc94-699adfade678",
   "metadata": {},
   "source": [
    "# Data Analysis Examples"
   ]
  },
  {
   "cell_type": "markdown",
   "id": "0e501d7b-0558-4d0a-8520-daa861ee108b",
   "metadata": {},
   "source": [
    "In the following chapter, we will go through the different behaviors of Kotlin and Python when it's time to make some data analysis.\n",
    "(References to the examples, and little explanation of what we want to look for (goals of statistical/exploratory analysis))"
   ]
  },
  {
   "cell_type": "markdown",
   "id": "9ed696dd-7cf8-45d8-9898-8a2e2a325a80",
   "metadata": {},
   "source": [
    "```{tableofcontents}\n",
    "```"
   ]
  }
 ],
 "metadata": {
  "kernelspec": {
   "display_name": "Python 3 (ipykernel)",
   "language": "python",
   "name": "python3"
  },
  "language_info": {
   "codemirror_mode": {
    "name": "ipython",
    "version": 3
   },
   "file_extension": ".py",
   "mimetype": "text/x-python",
   "name": "python",
   "nbconvert_exporter": "python",
   "pygments_lexer": "ipython3",
   "version": "3.10.9"
  }
 },
 "nbformat": 4,
 "nbformat_minor": 5
}
