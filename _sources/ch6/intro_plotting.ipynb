{
 "cells": [
  {
   "cell_type": "markdown",
   "id": "30d5e3ee-30df-4a2e-b5b2-cd6516188bd9",
   "metadata": {},
   "source": [
    "# Data Visualization"
   ]
  },
  {
   "cell_type": "markdown",
   "id": "ce2b39c3-73ae-41bd-a6b1-f8878ac1abe9",
   "metadata": {},
   "source": [
    "During the data analysis process, data visualization is one of the most important tasks. Making an effective informative visualization, may be useful in the exploratory process, but it can also be the end goal! \n",
    "\n",
    "Python's most popular **plotting** library is `Matplotlib`, and it will be compared with Kotlin's `Lets-Plot`  library, which is largely based on the API that [`ggplot2`](https://ggplot2.tidyverse.org/) (*R* open source plotting library) offers.\n",
    "\n",
    "The approach of ggplot and Lets-Plot is to use a series of **layers** for building the figure, whereas Matplotlib uses an object oriented approach, where all the customization is made on the figure itself."
   ]
  },
  {
   "cell_type": "markdown",
   "id": "f040b3fc-f82d-4c76-ace1-20ce84282ffd",
   "metadata": {},
   "source": [
    "```{tableofcontents}\n",
    "```"
   ]
  }
 ],
 "metadata": {
  "kernelspec": {
   "display_name": "",
   "name": ""
  },
  "language_info": {
   "name": ""
  }
 },
 "nbformat": 4,
 "nbformat_minor": 5
}
