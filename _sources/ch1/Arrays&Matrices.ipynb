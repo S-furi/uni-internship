{
 "cells": [
  {
   "cell_type": "markdown",
   "id": "818d85a2-120d-4861-857e-ca80fbcaed0e",
   "metadata": {},
   "source": [
    "# Working with Arrays and Matrices"
   ]
  },
  {
   "cell_type": "markdown",
   "id": "0f20c351-498d-43af-860c-9d79fc2b690c",
   "metadata": {},
   "source": [
    "Vectors and matrices are fundamental mathematical objects that play a crucial role in many data science tasks, such as linear algebra, statistics and machine learning. Manipulating and processing these objects is often a critical step, for example in data preprocessing. \n",
    "\n",
    "Python's **NumPy** is a widely used for scientific computing, and Kotlin **Multik** provides similar set of data structures and functions as NumPy, with some limitations.\n",
    "\n",
    "In this chapter, we will explore how to create and manipulate N-Dimensional Arrays, perform basic operations and using some built-in functions for more advanced operations."
   ]
  }
 ],
 "metadata": {
  "kernelspec": {
   "display_name": "Kotlin",
   "language": "kotlin",
   "name": "kotlin"
  },
  "language_info": {
   "codemirror_mode": "text/x-kotlin",
   "file_extension": ".kt",
   "mimetype": "text/x-kotlin",
   "name": "kotlin",
   "nbconvert_exporter": "",
   "pygments_lexer": "kotlin",
   "version": "1.8.20"
  }
 },
 "nbformat": 4,
 "nbformat_minor": 5
}
