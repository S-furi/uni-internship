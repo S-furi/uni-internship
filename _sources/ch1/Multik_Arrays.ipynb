{
 "cells": [
  {
   "cell_type": "markdown",
   "id": "7b23c907-b80e-4319-8c1a-a8e079c007bb",
   "metadata": {},
   "source": [
    "# Kotlin NDArrays"
   ]
  },
  {
   "cell_type": "markdown",
   "id": "b84c8eec-b8c3-44bf-947a-fcc7a17df0ab",
   "metadata": {},
   "source": [
    "Thanks to **Multik** and the standard Collections library, it's easy to create, access and manipulate N-dimensional arrays and matrices."
   ]
  },
  {
   "cell_type": "markdown",
   "id": "c30178c7-1666-4dfb-8884-d50e8d15c970",
   "metadata": {},
   "source": [
    "You can import Multik using Jupyter's magic command `%use`, for importing Multik library and dependencies."
   ]
  },
  {
   "cell_type": "code",
   "execution_count": 17,
   "id": "29763d96-6546-4ebd-b7d9-e51ce24f9a89",
   "metadata": {
    "tags": []
   },
   "outputs": [],
   "source": [
    "%use multik"
   ]
  },
  {
   "cell_type": "markdown",
   "id": "851b340c-3879-4c7d-a3fd-0293a148b2a8",
   "metadata": {},
   "source": [
    "We can create a simple 1D array as follows (type declaration is not mandatory)"
   ]
  },
  {
   "cell_type": "code",
   "execution_count": 47,
   "id": "a9da246a-f025-4e7f-8f8b-9fe5d0511d02",
   "metadata": {
    "tags": []
   },
   "outputs": [
    {
     "data": {
      "text/plain": [
       "[1, 2, 3]"
      ]
     },
     "execution_count": 47,
     "metadata": {},
     "output_type": "execute_result"
    }
   ],
   "source": [
    "val arr: NDArray<Int, D1> = mk.ndarray(mk[1, 2, 3])\n",
    "arr"
   ]
  },
  {
   "cell_type": "markdown",
   "id": "9f974f8a-c82e-40f0-933b-1c021fe9ba18",
   "metadata": {},
   "source": [
    "Notice the type definition of the Array, where we must specify:\n",
    "- **Type**: Any Kotlin subtype of `Number` (`Boolean` is not permitted).\n",
    "- **Dimension**: Multik defines 5 `Dimension` types: `D1`, `D2`, `D3`, `D4`, `DN`. `DN` is used in all the cases where the dimension is not known in advance, or when the dimension size is major than 4."
   ]
  },
  {
   "cell_type": "markdown",
   "id": "dd56211a-73c5-462e-bb1c-0352422ccdd5",
   "metadata": {},
   "source": [
    "In the same way, we can create a 2 dimensional array, but this time we let the compiler infer the type and dimension"
   ]
  },
  {
   "cell_type": "code",
   "execution_count": 52,
   "id": "33074075-db2d-4401-977a-6b251b89823e",
   "metadata": {
    "tags": []
   },
   "outputs": [
    {
     "data": {
      "text/plain": [
       "[[1, 2, 3],\n",
       "[4, 5, 6]]"
      ]
     },
     "execution_count": 52,
     "metadata": {},
     "output_type": "execute_result"
    }
   ],
   "source": [
    "val arr = mk.ndarray(mk[mk[1, 2, 3], mk[4, 5, 6]])\n",
    "arr"
   ]
  },
  {
   "cell_type": "markdown",
   "id": "ce0a1b04-9eba-41aa-bb63-920b56f2d180",
   "metadata": {},
   "source": [
    "We can also create an array from *Kotlin Collections* **List** or **Set**"
   ]
  },
  {
   "cell_type": "code",
   "execution_count": 57,
   "id": "ec57c660-e3fe-4a3e-b801-428edb87a432",
   "metadata": {
    "tags": []
   },
   "outputs": [
    {
     "data": {
      "text/plain": [
       "[1, 2, 3]"
      ]
     },
     "execution_count": 57,
     "metadata": {},
     "output_type": "execute_result"
    }
   ],
   "source": [
    "val arr = mk.ndarray(listOf(1, 2, 3))\n",
    "arr"
   ]
  },
  {
   "cell_type": "markdown",
   "id": "f4b45f56-d6d6-431d-b9b7-55253cb0ba86",
   "metadata": {},
   "source": [
    "## Creation"
   ]
  },
  {
   "cell_type": "markdown",
   "id": "2b0c84d1-200f-439d-a2ab-bbc18930fe9c",
   "metadata": {},
   "source": [
    "We will go through simple `NDArrays` creation methods."
   ]
  },
  {
   "cell_type": "markdown",
   "id": "e923f264-540f-416a-abd3-547c3fa433e0",
   "metadata": {
    "tags": []
   },
   "source": [
    "Creating equally spaced arrays with `arange` and `linspace`"
   ]
  },
  {
   "cell_type": "code",
   "execution_count": 158,
   "id": "aafd5464-9c55-430e-b4bb-f691b29b7ea4",
   "metadata": {
    "tags": []
   },
   "outputs": [
    {
     "name": "stdout",
     "output_type": "stream",
     "text": [
      "a -> [0.0, 0.25, 0.5, 0.75, 1.0]\n",
      "b -> [0, 2, 4, 6, 8]\n"
     ]
    }
   ],
   "source": [
    "val a = mk.linspace<Double>(0, 1, 5)\n",
    "val b = mk.arange<Int>(0, 10, 2)\n",
    "\n",
    "println(\"a -> $a\")\n",
    "println(\"b -> $b\")"
   ]
  },
  {
   "cell_type": "markdown",
   "id": "ccc39b52-3705-42ba-bb26-1463d09b8140",
   "metadata": {
    "tags": []
   },
   "source": [
    "Generating an array of Zeros and Ones"
   ]
  },
  {
   "cell_type": "code",
   "execution_count": 101,
   "id": "4acda407-9526-4326-8713-2592a538afb3",
   "metadata": {
    "tags": []
   },
   "outputs": [
    {
     "name": "stdout",
     "output_type": "stream",
     "text": [
      "Zeros ->[0.0, 0.0, 0.0, 0.0, 0.0, 0.0, 0.0, 0.0, 0.0, 0.0]\n",
      "Ones -> [1.0, 1.0, 1.0, 1.0, 1.0, 1.0, 1.0, 1.0, 1.0, 1.0]\n"
     ]
    }
   ],
   "source": [
    "val zrs = mk.zeros<Double>(10)\n",
    "val ons = mk.ones<Double>(10)\n",
    "println(\"Zeros ->$zrs\")\n",
    "println(\"Ones -> $ons\")"
   ]
  },
  {
   "cell_type": "markdown",
   "id": "ccc4d509-5c96-4539-8a99-44d53dde250f",
   "metadata": {},
   "source": [
    "We can then map the array to a matrix using the `reshape` method, wich takes in input an arbitrary number of dimensions size along wich the array will be mapped. "
   ]
  },
  {
   "cell_type": "code",
   "execution_count": 102,
   "id": "5ff389d2-dae8-46f2-81d8-a1636098388a",
   "metadata": {
    "tags": []
   },
   "outputs": [
    {
     "data": {
      "text/plain": [
       "[[[0, 0, 0, 0, 0],\n",
       "[0, 0, 0, 0, 0],\n",
       "[0, 0, 0, 0, 0],\n",
       "[0, 0, 0, 0, 0],\n",
       "[0, 0, 0, 0, 0]],\n",
       "\n",
       "[[0, 0, 0, 0, 0],\n",
       "[0, 0, 0, 0, 0],\n",
       "[0, 0, 0, 0, 0],\n",
       "[0, 0, 0, 0, 0],\n",
       "[0, 0, 0, 0, 0]]]"
      ]
     },
     "execution_count": 102,
     "metadata": {},
     "output_type": "execute_result"
    }
   ],
   "source": [
    "mk.zeros<Int>(50).reshape(2, 5, 5) // three dimensional matrix with (z, x, y) = (2, 5, 5)"
   ]
  },
  {
   "cell_type": "markdown",
   "id": "abb3845b-575f-4f3a-b825-b9e1cb3ba614",
   "metadata": {},
   "source": [
    "It's also possiible to create an `NDArray` providing a **lambda** for constructing it, considering that the matrix will be built upon a `arange` vector."
   ]
  },
  {
   "cell_type": "code",
   "execution_count": 149,
   "id": "85cee6c5-7ac1-4699-8004-6dc79811905d",
   "metadata": {
    "tags": []
   },
   "outputs": [
    {
     "data": {
      "text/plain": [
       "[[[0, 1, 0, 1, 0],\n",
       "[1, 0, 1, 0, 1],\n",
       "[0, 1, 0, 1, 0],\n",
       "[1, 0, 1, 0, 1],\n",
       "[0, 1, 0, 1, 0]],\n",
       "\n",
       "[[1, 0, 1, 0, 1],\n",
       "[0, 1, 0, 1, 0],\n",
       "[1, 0, 1, 0, 1],\n",
       "[0, 1, 0, 1, 0],\n",
       "[1, 0, 1, 0, 1]]]"
      ]
     },
     "execution_count": 149,
     "metadata": {},
     "output_type": "execute_result"
    }
   ],
   "source": [
    "mk.d3array(2, 5, 5) { it % 2 }"
   ]
  },
  {
   "cell_type": "markdown",
   "id": "625a2d9e-4799-4b41-a11a-8f71c35c17fa",
   "metadata": {},
   "source": [
    "Same as"
   ]
  },
  {
   "cell_type": "code",
   "execution_count": 164,
   "id": "089c53b6-ec01-420c-9fe2-d68013a39cff",
   "metadata": {
    "tags": []
   },
   "outputs": [
    {
     "data": {
      "text/plain": [
       "[[[0, 1, 0, 1, 0],\n",
       "[1, 0, 1, 0, 1],\n",
       "[0, 1, 0, 1, 0],\n",
       "[1, 0, 1, 0, 1],\n",
       "[0, 1, 0, 1, 0]],\n",
       "\n",
       "[[1, 0, 1, 0, 1],\n",
       "[0, 1, 0, 1, 0],\n",
       "[1, 0, 1, 0, 1],\n",
       "[0, 1, 0, 1, 0],\n",
       "[1, 0, 1, 0, 1]]]"
      ]
     },
     "execution_count": 164,
     "metadata": {},
     "output_type": "execute_result"
    }
   ],
   "source": [
    "mk.arange<Int>(50).map { it % 2 }.reshape(2, 5, 5)"
   ]
  },
  {
   "cell_type": "markdown",
   "id": "048db12b-ba30-4857-bd45-5ab683067fee",
   "metadata": {},
   "source": [
    "TODO:\n",
    "- real world scenarios\n",
    "- linear algebra\n",
    "- statics"
   ]
  }
 ],
 "metadata": {
  "kernelspec": {
   "display_name": "Kotlin",
   "language": "kotlin",
   "name": "kotlin"
  },
  "language_info": {
   "codemirror_mode": "text/x-kotlin",
   "file_extension": ".kt",
   "mimetype": "text/x-kotlin",
   "name": "kotlin",
   "nbconvert_exporter": "",
   "pygments_lexer": "kotlin",
   "version": "1.8.20"
  }
 },
 "nbformat": 4,
 "nbformat_minor": 5
}
