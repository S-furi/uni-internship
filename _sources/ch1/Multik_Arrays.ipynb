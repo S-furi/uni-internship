{
 "cells": [
  {
   "cell_type": "markdown",
   "id": "7b23c907-b80e-4319-8c1a-a8e079c007bb",
   "metadata": {},
   "source": [
    "# Kotlin NDArrays"
   ]
  },
  {
   "cell_type": "markdown",
   "id": "e631cf78-0846-45bb-8103-769b6bd51e6e",
   "metadata": {},
   "source": [
    "## Mutlik *Engines*"
   ]
  },
  {
   "cell_type": "markdown",
   "id": "6aef28da-739f-4bbb-b1c3-68ce36964edb",
   "metadata": {},
   "source": [
    "Multik engines are a key feature of this library, which provide a way to perform computation on arrays using different backends.\n",
    "\n",
    "In the context of Multik, a **backend** is a software component that provides the implementation of *specific array operations* (i.e. a backend might implement the algorithm for matrix multiplication).\n",
    "Multik lets the user select a backend (a default one is loaded when specifying anything), depending on his specific needs and requirements.\n",
    "Currently, there are several Multik engines available, including:\n",
    "- JVM Engine: default engine, runs on the JVM and provides basic array operations.\n",
    "- Apache Arrow Engine"
   ]
  },
  {
   "cell_type": "markdown",
   "id": "b84c8eec-b8c3-44bf-947a-fcc7a17df0ab",
   "metadata": {},
   "source": [
    "Thanks to **Multik** and the standard Collections library, it's easy to create, access and manipulate N-dimensional arrays and matrices."
   ]
  },
  {
   "cell_type": "markdown",
   "id": "c30178c7-1666-4dfb-8884-d50e8d15c970",
   "metadata": {},
   "source": [
    "You can import Multik using Jupyter's magic command `%use`, for importing Multik library and dependencies."
   ]
  },
  {
   "cell_type": "code",
   "execution_count": 1,
   "id": "29763d96-6546-4ebd-b7d9-e51ce24f9a89",
   "metadata": {
    "tags": []
   },
   "outputs": [],
   "source": [
    "%use multik"
   ]
  },
  {
   "cell_type": "markdown",
   "id": "851b340c-3879-4c7d-a3fd-0293a148b2a8",
   "metadata": {},
   "source": [
    "We can then create a simple 1D array as follows:"
   ]
  },
  {
   "cell_type": "code",
   "execution_count": 2,
   "id": "a9da246a-f025-4e7f-8f8b-9fe5d0511d02",
   "metadata": {
    "tags": []
   },
   "outputs": [
    {
     "data": {
      "text/plain": [
       "[1, 2, 3]"
      ]
     },
     "execution_count": 2,
     "metadata": {},
     "output_type": "execute_result"
    }
   ],
   "source": [
    "val arr: NDArray<Int, D1> = mk.ndarray(mk[1, 2, 3])\n",
    "arr"
   ]
  },
  {
   "cell_type": "markdown",
   "id": "9f974f8a-c82e-40f0-933b-1c021fe9ba18",
   "metadata": {},
   "source": [
    "Notice the type definition of the Array, where we must specify:\n",
    "- **Type**: Any Kotlin subtype of `Number` (`Boolean` is not permitted).\n",
    "- **Dimension**: Multik defines 5 `Dimension` types: `D1`, `D2`, `D3`, `D4`, `DN`. `DN` is used in all the cases where the dimension is not known in advance, or when the dimension size is major than 4."
   ]
  },
  {
   "cell_type": "markdown",
   "id": "dd56211a-73c5-462e-bb1c-0352422ccdd5",
   "metadata": {},
   "source": [
    "In the same way, we can create a 2 dimensional array, but this time we let the compiler infer the type and dimension"
   ]
  },
  {
   "cell_type": "code",
   "execution_count": 3,
   "id": "33074075-db2d-4401-977a-6b251b89823e",
   "metadata": {
    "tags": []
   },
   "outputs": [
    {
     "data": {
      "text/plain": [
       "[[1, 2, 3],\n",
       "[4, 5, 6]]"
      ]
     },
     "execution_count": 3,
     "metadata": {},
     "output_type": "execute_result"
    }
   ],
   "source": [
    "val arr = mk.ndarray(mk[mk[1, 2, 3], mk[4, 5, 6]])\n",
    "arr"
   ]
  },
  {
   "cell_type": "markdown",
   "id": "ce0a1b04-9eba-41aa-bb63-920b56f2d180",
   "metadata": {},
   "source": [
    "We can also create an array from *Kotlin Collections* **List** or **Set**"
   ]
  },
  {
   "cell_type": "code",
   "execution_count": 4,
   "id": "ec57c660-e3fe-4a3e-b801-428edb87a432",
   "metadata": {
    "tags": []
   },
   "outputs": [
    {
     "data": {
      "text/plain": [
       "[1, 2, 3]"
      ]
     },
     "execution_count": 4,
     "metadata": {},
     "output_type": "execute_result"
    }
   ],
   "source": [
    "val arr = mk.ndarray(listOf(1, 2, 3))\n",
    "arr"
   ]
  },
  {
   "cell_type": "markdown",
   "id": "34b584e4-5a0c-4c36-9e90-743f1f59d338",
   "metadata": {},
   "source": [
    "Already from these examples, it's quite easy to spot the similarities with NumPy API, but at the same time, Kotlin's static typing can be a bit tedious at first comparing to NumPy, but the effort will often pay off."
   ]
  },
  {
   "cell_type": "markdown",
   "id": "f4b45f56-d6d6-431d-b9b7-55253cb0ba86",
   "metadata": {},
   "source": [
    "## Creation"
   ]
  },
  {
   "cell_type": "markdown",
   "id": "2b0c84d1-200f-439d-a2ab-bbc18930fe9c",
   "metadata": {},
   "source": [
    "We will go through simple `NDArrays` creation methods. Most of the times they're very similar to NumPy's methods, so the following examples should be already familiar."
   ]
  },
  {
   "cell_type": "markdown",
   "id": "e923f264-540f-416a-abd3-547c3fa433e0",
   "metadata": {
    "tags": []
   },
   "source": [
    "Creating equally spaced arrays with `arange` and `linspace`"
   ]
  },
  {
   "cell_type": "code",
   "execution_count": 5,
   "id": "aafd5464-9c55-430e-b4bb-f691b29b7ea4",
   "metadata": {
    "tags": []
   },
   "outputs": [
    {
     "name": "stdout",
     "output_type": "stream",
     "text": [
      "a -> [0.0, 0.25, 0.5, 0.75, 1.0]\n",
      "b -> [0, 2, 4, 6, 8]\n"
     ]
    }
   ],
   "source": [
    "val a = mk.linspace<Double>(0, 1, 5)\n",
    "val b = mk.arange<Int>(0, 10, 2)\n",
    "\n",
    "println(\"a -> $a\")\n",
    "println(\"b -> $b\")"
   ]
  },
  {
   "cell_type": "markdown",
   "id": "ccc39b52-3705-42ba-bb26-1463d09b8140",
   "metadata": {
    "tags": []
   },
   "source": [
    "Generating an array of Zeros and Ones"
   ]
  },
  {
   "cell_type": "code",
   "execution_count": 6,
   "id": "4acda407-9526-4326-8713-2592a538afb3",
   "metadata": {
    "tags": []
   },
   "outputs": [
    {
     "name": "stdout",
     "output_type": "stream",
     "text": [
      "Zeros ->[0.0, 0.0, 0.0, 0.0, 0.0, 0.0, 0.0, 0.0, 0.0, 0.0]\n",
      "Ones -> [1.0, 1.0, 1.0, 1.0, 1.0, 1.0, 1.0, 1.0, 1.0, 1.0]\n"
     ]
    }
   ],
   "source": [
    "val zrs = mk.zeros<Double>(10)\n",
    "val ons = mk.ones<Double>(10)\n",
    "println(\"Zeros ->$zrs\")\n",
    "println(\"Ones -> $ons\")"
   ]
  },
  {
   "cell_type": "markdown",
   "id": "ccc4d509-5c96-4539-8a99-44d53dde250f",
   "metadata": {},
   "source": [
    "We can then map the array to a matrix using the `reshape` method, which takes in input an arbitrary number of dimensions size along which the array will be mapped. "
   ]
  },
  {
   "cell_type": "code",
   "execution_count": 7,
   "id": "5ff389d2-dae8-46f2-81d8-a1636098388a",
   "metadata": {
    "tags": []
   },
   "outputs": [
    {
     "data": {
      "text/plain": [
       "[[[0, 0, 0, 0, 0],\n",
       "[0, 0, 0, 0, 0],\n",
       "[0, 0, 0, 0, 0],\n",
       "[0, 0, 0, 0, 0],\n",
       "[0, 0, 0, 0, 0]],\n",
       "\n",
       "[[0, 0, 0, 0, 0],\n",
       "[0, 0, 0, 0, 0],\n",
       "[0, 0, 0, 0, 0],\n",
       "[0, 0, 0, 0, 0],\n",
       "[0, 0, 0, 0, 0]]]"
      ]
     },
     "execution_count": 7,
     "metadata": {},
     "output_type": "execute_result"
    }
   ],
   "source": [
    "mk.zeros<Int>(50).reshape(2, 5, 5) // three dimensional matrix with (z, x, y) = (2, 5, 5)"
   ]
  },
  {
   "cell_type": "markdown",
   "id": "abb3845b-575f-4f3a-b825-b9e1cb3ba614",
   "metadata": {},
   "source": [
    "It's also possible to create an `NDArray` providing a **lambda** for constructing it, considering that the matrix will be built upon a `arange` vector."
   ]
  },
  {
   "cell_type": "code",
   "execution_count": 8,
   "id": "85cee6c5-7ac1-4699-8004-6dc79811905d",
   "metadata": {
    "tags": []
   },
   "outputs": [
    {
     "data": {
      "text/plain": [
       "[[[0, 1, 0, 1, 0],\n",
       "[1, 0, 1, 0, 1],\n",
       "[0, 1, 0, 1, 0],\n",
       "[1, 0, 1, 0, 1],\n",
       "[0, 1, 0, 1, 0]],\n",
       "\n",
       "[[1, 0, 1, 0, 1],\n",
       "[0, 1, 0, 1, 0],\n",
       "[1, 0, 1, 0, 1],\n",
       "[0, 1, 0, 1, 0],\n",
       "[1, 0, 1, 0, 1]]]"
      ]
     },
     "execution_count": 8,
     "metadata": {},
     "output_type": "execute_result"
    }
   ],
   "source": [
    "mk.d3array(2, 5, 5) { it % 2 }"
   ]
  },
  {
   "cell_type": "markdown",
   "id": "625a2d9e-4799-4b41-a11a-8f71c35c17fa",
   "metadata": {},
   "source": [
    "Same as"
   ]
  },
  {
   "cell_type": "code",
   "execution_count": 9,
   "id": "089c53b6-ec01-420c-9fe2-d68013a39cff",
   "metadata": {
    "tags": []
   },
   "outputs": [
    {
     "data": {
      "text/plain": [
       "[[[0, 1, 0, 1, 0],\n",
       "[1, 0, 1, 0, 1],\n",
       "[0, 1, 0, 1, 0],\n",
       "[1, 0, 1, 0, 1],\n",
       "[0, 1, 0, 1, 0]],\n",
       "\n",
       "[[1, 0, 1, 0, 1],\n",
       "[0, 1, 0, 1, 0],\n",
       "[1, 0, 1, 0, 1],\n",
       "[0, 1, 0, 1, 0],\n",
       "[1, 0, 1, 0, 1]]]"
      ]
     },
     "execution_count": 9,
     "metadata": {},
     "output_type": "execute_result"
    }
   ],
   "source": [
    "mk.arange<Int>(50).map { it % 2 }.reshape(2, 5, 5)"
   ]
  },
  {
   "cell_type": "markdown",
   "id": "18879dd0-b4a1-4913-ad62-139aefee0af3",
   "metadata": {},
   "source": [
    "### Arithmetic with NDArrays"
   ]
  },
  {
   "cell_type": "markdown",
   "id": "62538146-f259-48c7-b9bb-549e04dccd55",
   "metadata": {},
   "source": [
    "In the current version of Multik, an `NDArray` object support all arithmetic operations, enabling what are called as **vectorized** operations.\n",
    "Vectorization is very convenient because enable the user to express batch operations on data without writing any for loops (and also could possibly enhance performances)."
   ]
  },
  {
   "cell_type": "code",
   "execution_count": 10,
   "id": "c043daf0-169c-4730-b867-1519b76b9502",
   "metadata": {
    "tags": []
   },
   "outputs": [
    {
     "data": {
      "text/plain": [
       "[[1.0, 2.0, 3.0],\n",
       "[4.0, 5.0, 6.0]]"
      ]
     },
     "execution_count": 10,
     "metadata": {},
     "output_type": "execute_result"
    }
   ],
   "source": [
    "val arr = mk.ndarray(mk[mk[1.0, 2.0, 3.0], mk[4.0, 5.0, 6.0]])\n",
    "arr"
   ]
  },
  {
   "cell_type": "code",
   "execution_count": 11,
   "id": "7f65213d-d2b6-436c-b745-a013263c255b",
   "metadata": {
    "tags": []
   },
   "outputs": [
    {
     "data": {
      "text/plain": [
       "[[1.0, 4.0, 9.0],\n",
       "[16.0, 25.0, 36.0]]"
      ]
     },
     "execution_count": 11,
     "metadata": {},
     "output_type": "execute_result"
    }
   ],
   "source": [
    "arr * arr"
   ]
  },
  {
   "cell_type": "code",
   "execution_count": 12,
   "id": "7aa0e6b7-f161-48b5-aaee-8cc613408ddd",
   "metadata": {
    "tags": []
   },
   "outputs": [
    {
     "data": {
      "text/plain": [
       "[[1.0, 0.5, 0.3333333333333333],\n",
       "[0.25, 0.2, 0.16666666666666666]]"
      ]
     },
     "execution_count": 12,
     "metadata": {},
     "output_type": "execute_result"
    }
   ],
   "source": [
    "1.0 / arr"
   ]
  },
  {
   "cell_type": "code",
   "execution_count": 13,
   "id": "5052efb5-f633-4ab5-8f39-da4d3e747ceb",
   "metadata": {
    "tags": []
   },
   "outputs": [
    {
     "data": {
      "text/plain": [
       "[[14.0, 32.0],\n",
       "[32.0, 77.0]]"
      ]
     },
     "execution_count": 13,
     "metadata": {},
     "output_type": "execute_result"
    }
   ],
   "source": [
    "arr dot arr.transpose()"
   ]
  },
  {
   "cell_type": "markdown",
   "id": "1562a743-826e-4a3c-a050-53ba4ead8318",
   "metadata": {},
   "source": [
    "````{margin}\n",
    "```{warning}\n",
    "Operations among equal shaped arrays and matrices are always allowed. As the current version of Multik (v0.2.0), there is no native support for array **broadcasting**.\n",
    "In [Broadcasting](#Broadcasting) subsection there is an explanation on how to archieve array broadcasting using tensor algebra provided by [Kmath](https://github.com/SciProgCentre/kmath).\n",
    "```\n",
    "````"
   ]
  },
  {
   "cell_type": "markdown",
   "id": "07b511f8-2e1f-48ac-8c76-bdf1580059a5",
   "metadata": {},
   "source": [
    "Multik supports two separate packages for linear algebra basic operations (package `api.linalg`) and vectorized math operations (package `api.math`)"
   ]
  },
  {
   "cell_type": "code",
   "execution_count": 14,
   "id": "9a883ae4-c8c8-48ef-9c45-e0395411f4b8",
   "metadata": {
    "tags": []
   },
   "outputs": [
    {
     "data": {
      "text/plain": [
       "[[1.0, 3.0, 6.0],\n",
       "[4.0, 9.0, 15.0]]"
      ]
     },
     "execution_count": 14,
     "metadata": {},
     "output_type": "execute_result"
    }
   ],
   "source": [
    "mk.math.cumSum(arr, axis = 1)"
   ]
  },
  {
   "cell_type": "code",
   "execution_count": 15,
   "id": "17f3a86a-4c36-44f7-a05f-7c611940f4e1",
   "metadata": {},
   "outputs": [
    {
     "data": {
      "text/plain": [
       "3.0"
      ]
     },
     "execution_count": 15,
     "metadata": {},
     "output_type": "execute_result"
    }
   ],
   "source": [
    "val sqrMat = mk.ones<Double>(3, 3)\n",
    "// Frobenius norm of the matrix (default when calling `norm()`)\n",
    "mk.linalg.norm(sqrMat, norm = Norm.Fro)"
   ]
  },
  {
   "cell_type": "code",
   "execution_count": 16,
   "id": "b1c830f5-cd11-4739-94b2-28cd45109614",
   "metadata": {
    "tags": []
   },
   "outputs": [
    {
     "data": {
      "text/plain": [
       "[[0.8414709848078965, 0.9092974268256817, 0.1411200080598672],\n",
       "[-0.7568024953079283, -0.9589242746631385, -0.27941549819892586]]"
      ]
     },
     "execution_count": 16,
     "metadata": {},
     "output_type": "execute_result"
    }
   ],
   "source": [
    "mk.math.sin(arr)"
   ]
  },
  {
   "cell_type": "markdown",
   "id": "2954ca89-4e6b-46df-9c20-6dae82090e94",
   "metadata": {},
   "source": [
    "The `linalg` package contains also methods for solving linear matrix equations and matrix decomposition methods."
   ]
  },
  {
   "cell_type": "code",
   "execution_count": 17,
   "id": "cc3a05f5-414c-4415-97f3-2c0c91216ec1",
   "metadata": {
    "tags": []
   },
   "outputs": [
    {
     "name": "stdout",
     "output_type": "stream",
     "text": [
      " x = [0, 6, 12]\n"
     ]
    },
    {
     "data": {
      "text/plain": [
       "true"
      ]
     },
     "execution_count": 17,
     "metadata": {},
     "output_type": "execute_result"
    }
   ],
   "source": [
    "// solve the linear system\n",
    "val a = mk.d2array(3, 3) { it * it }.asType<Double>()\n",
    "val b = mk.ndarray(mk[54.0, 396.0, 1062.0])\n",
    "\n",
    "val res = mk.linalg.solve(a, b).map { it.roundToInt() }\n",
    "println(\" x = $res\")\n",
    "\n",
    "// check\n",
    "(a dot res.asType<Double>()) == b\n"
   ]
  },
  {
   "cell_type": "markdown",
   "id": "165845e1-d66d-4fca-a903-56e7580ace9a",
   "metadata": {},
   "source": [
    "`linalg` also offers matrix inversion and `qr` decomposition"
   ]
  },
  {
   "cell_type": "code",
   "execution_count": 18,
   "id": "a37f3556-5d5e-4219-8447-ea4d9153ed64",
   "metadata": {
    "tags": []
   },
   "outputs": [
    {
     "data": {
      "text/plain": [
       "[[-0.4730081241282149, -0.0663632729017734, 0.4803720325159016, 0.39045557321373475, -0.6234150994653141],\n",
       "[-0.42890766202326924, -0.5903088879397907, 0.1566480105251442, 0.20065266980700464, 0.634644421053913],\n",
       "[-0.3451177631467699, -0.10550111947358352, -0.8615798213163115, 0.28870313683384674, -0.209985603395186],\n",
       "[-0.46842690356476563, -0.15585999209708667, -0.03271223444527256, -0.8491077986423662, -0.18501285058755915],\n",
       "[-0.5037573796419623, 0.7821179639174446, 0.03625234327882609, 0.05430834662063837, 0.36091046544540845]]"
      ]
     },
     "execution_count": 18,
     "metadata": {},
     "output_type": "execute_result"
    }
   ],
   "source": [
    "val X = mk.rand<Double>(5, 5)\n",
    "val mat = X.transpose().dot(X)\n",
    "mk.linalg.inv(mat)\n",
    "\n",
    "val (q, r) = mk.linalg.qr(mat)\n",
    "q"
   ]
  },
  {
   "cell_type": "code",
   "execution_count": 19,
   "id": "09d712bd-ddec-4cd6-b72f-8ca83aff437e",
   "metadata": {},
   "outputs": [
    {
     "data": {
      "text/plain": [
       "[[-2.4385318444251523, -2.1329680835247737, -2.326543749818745, -3.039184202669899, -3.391536539633034],\n",
       "[0.0, -0.5574432744302954, 0.20840267239782587, 0.15182999045805903, 1.2080209343840034],\n",
       "[0.0, 0.0, -0.5101528383917797, -0.2071454340267287, -0.401676500944494],\n",
       "[0.0, 0.0, 0.0, -0.4756036331281658, -0.24181513863230183],\n",
       "[0.0, 0.0, 0.0, 0.0, 0.013242341630008305]]"
      ]
     },
     "execution_count": 19,
     "metadata": {},
     "output_type": "execute_result"
    }
   ],
   "source": [
    "r"
   ]
  },
  {
   "cell_type": "markdown",
   "id": "e15f9b88-0e7a-4ef7-bce5-2be3933df833",
   "metadata": {
    "tags": []
   },
   "source": [
    "For more, visit Multik's documentation for [`linalg`](https://kotlin.github.io/multik/multik-core/org.jetbrains.kotlinx.multik.api.linalg/index.html) and [`math`](https://kotlin.github.io/multik/multik-core/org.jetbrains.kotlinx.multik.api.math/index.html)"
   ]
  },
  {
   "cell_type": "markdown",
   "id": "69002f79-85f1-4c2d-9155-513da2bd79ad",
   "metadata": {},
   "source": [
    "### Indexing and Slicing"
   ]
  },
  {
   "cell_type": "markdown",
   "id": "92cc8e3f-5c1b-46a5-8427-cc69d40dc7d4",
   "metadata": {},
   "source": [
    "There are many ways to select subset of data of and `NDArray`.\n",
    "\n",
    "For one dimensional arrays is straightforward:"
   ]
  },
  {
   "cell_type": "code",
   "execution_count": 20,
   "id": "fda6eb88-11ff-44c9-bc48-b0230dfcf337",
   "metadata": {
    "tags": []
   },
   "outputs": [
    {
     "data": {
      "text/plain": [
       "[0, 1, 2, 3, 4, 5, 6, 7, 8, 9]"
      ]
     },
     "execution_count": 20,
     "metadata": {},
     "output_type": "execute_result"
    }
   ],
   "source": [
    "val arr = mk.arange<Int>(10)\n",
    "arr"
   ]
  },
  {
   "cell_type": "code",
   "execution_count": 21,
   "id": "35b2406d-db80-47a2-997e-ba3536797ffa",
   "metadata": {
    "tags": []
   },
   "outputs": [
    {
     "data": {
      "text/plain": [
       "2"
      ]
     },
     "execution_count": 21,
     "metadata": {},
     "output_type": "execute_result"
    }
   ],
   "source": [
    "// basic indexing\n",
    "arr[2]"
   ]
  },
  {
   "cell_type": "code",
   "execution_count": 22,
   "id": "50884a53-6078-4526-ae4f-7352c0a0fce9",
   "metadata": {
    "tags": []
   },
   "outputs": [
    {
     "name": "stdout",
     "output_type": "stream",
     "text": [
      "[1, 2, 3]\n",
      "[1, 2]\n"
     ]
    }
   ],
   "source": [
    "// range indexing\n",
    "println(arr[1..3])\n",
    "// the behavior is different using kotlin keyword `until`\n",
    "println(arr[1 until 3])"
   ]
  },
  {
   "cell_type": "markdown",
   "id": "95e02ad4-5feb-40f7-81db-a095c6f7f167",
   "metadata": {},
   "source": [
    "For Multi-Index arrays the *range* operator can be used like:"
   ]
  },
  {
   "cell_type": "code",
   "execution_count": 23,
   "id": "8c663259-c869-4b94-bfa4-1c36d06cd55e",
   "metadata": {
    "tags": []
   },
   "outputs": [
    {
     "data": {
      "text/plain": [
       "[0, 4, 8]"
      ]
     },
     "execution_count": 23,
     "metadata": {},
     "output_type": "execute_result"
    }
   ],
   "source": [
    "val a = mk.linspace<Int>(0, 20, 10).reshape(5, 2)\n",
    "\n",
    "// single elemt selection\n",
    "a[3, 1]\n",
    "// row selection\n",
    "a[0]\n",
    "// range selection left inclusive\n",
    "a[0..2] // != a[0 until 2] -> left exlusive\n",
    "// selecting first column of first 3 rows\n",
    "a[0..2, 0]"
   ]
  },
  {
   "cell_type": "markdown",
   "id": "cf03f57d-b711-40e9-a1f4-364255f559d3",
   "metadata": {},
   "source": [
    "```{warning}\n",
    "Slices are **copies** of the source array, unlike NumPy that generates a *view* on the original array.\n",
    "```kotlin\n",
    "var b = a[0..2, 0]\n",
    "a[0..2, 0] === b // false!\n",
    "```\n",
    "```"
   ]
  },
  {
   "cell_type": "markdown",
   "id": "019dde71-6a08-4eff-ab37-66cbbbd2ffc8",
   "metadata": {},
   "source": [
    "`NDArrays` does not support boolean indexing, but filters can be applied with the `filter()` method, like every `Collection` in Kotlin's standard library.\n",
    "\n",
    "For each \"indexed functional method\" that can be applied to kotlin collections, like `mapIndexed`, `forEachIndexed`, `filterIndexed`, Multik offers the counterpart for multidimensional arrays (of the form `*MultiIndexed()`), where the index is an `intArray()` of the combination of the indices of the current element.\n",
    "\n",
    "A full list of those methods, and more, can be found int the [`ndarray.operations`](https://kotlin.github.io/multik/multik-core/org.jetbrains.kotlinx.multik.ndarray.operations/index.html) package."
   ]
  },
  {
   "cell_type": "markdown",
   "id": "5ba86132-8742-44c7-aa54-19595ec3bf34",
   "metadata": {},
   "source": [
    "#### `inplace` context"
   ]
  },
  {
   "cell_type": "markdown",
   "id": "59e10b7b-fcae-4c65-8afe-2e9dabcd7be8",
   "metadata": {},
   "source": [
    "Multik provides `inplace` context for operating directly inside an array, modifying it's structure.\n",
    "We can then call the default `math` context for applying *inplace* mathematical transformation on the elements of the array."
   ]
  },
  {
   "cell_type": "code",
   "execution_count": 24,
   "id": "5abab2a2-0e75-4128-9f63-c7aeb6a75e5d",
   "metadata": {
    "tags": []
   },
   "outputs": [
    {
     "name": "stdout",
     "output_type": "stream",
     "text": [
      "Before -> [0.0, 10.0, 20.0, 30.0, 40.0, 50.0, 60.0, 70.0, 80.0, 90.0]\n",
      "After -> [0.0, 9.0, 36.0, 81.0, 144.0, 225.0, 324.0, 441.0, 576.0, 729.0]\n"
     ]
    }
   ],
   "source": [
    "val a = mk.d1array(10) { it * 10 }.asType<Double>()\n",
    "val b = mk.arange<Double>(10)\n",
    "\n",
    "println(\"Before -> $a\")\n",
    "a.inplace { \n",
    "    math {\n",
    "        (this - b) * b\n",
    "        abs()\n",
    "    }\n",
    "}\n",
    "\n",
    "println(\"After -> $a\")"
   ]
  },
  {
   "cell_type": "markdown",
   "id": "d04f8ce0-daf0-4d70-8b08-c10ff60b467a",
   "metadata": {},
   "source": [
    "Note that this approach violates the immutability provided by Kotlin's `val`  keyword!"
   ]
  },
  {
   "cell_type": "markdown",
   "id": "d1e10dfc-0d50-4d9d-9500-413d00ce4fa8",
   "metadata": {},
   "source": [
    "### Mathematical and Statistical Methods"
   ]
  },
  {
   "cell_type": "markdown",
   "id": "eb7ec78c-d75d-4790-b7f2-a19730b0b4e3",
   "metadata": {},
   "source": [
    "Both `api.stat` and `api.math` provides several methods for computing basic statistics like `mean`, `median`, `max`, `argMax`, `sum `and `cumSum`, some of them are callable by the instance method or using the top-level Multik function."
   ]
  },
  {
   "cell_type": "markdown",
   "id": "0fc668f7-5b38-4ae4-9133-4ae3565b85dd",
   "metadata": {},
   "source": [
    "If we want to compute the mean of a matrix, we must specify whether we want to compute the mean for the *whole* matrix, or row/column-wise with `mean()` and `meanD2()` respectively (for higher dimensional matrices, the `meanD*` variant covers dimension up to 4, then the `meanDN` has to be used)."
   ]
  },
  {
   "cell_type": "code",
   "execution_count": 25,
   "id": "5d7101f0-6a47-460c-9b54-02e3dc1b6a93",
   "metadata": {},
   "outputs": [
    {
     "name": "stdout",
     "output_type": "stream",
     "text": [
      "mean of the whole matrix -> 0.4418135955155729\n",
      "mean across columns -> [0.5245541485523396, 0.3803155016927917, 0.4561106102657019, 0.40627412155145864]\n",
      "mean across rows -> [0.5029279033890088, 0.4123871098855246, 0.4461766409719677, 0.43794518261844445, 0.40963114071291923]\n"
     ]
    }
   ],
   "source": [
    "val arr = mk.rand<Double>(5, 4)\n",
    "\n",
    "println(\"mean of the whole matrix -> ${mk.stat.mean(arr)}\")\n",
    "println(\"mean across columns -> ${mk.stat.meanD2(arr, 0)}\")\n",
    "println(\"mean across rows -> ${mk.stat.meanD2(arr, 1)}\")"
   ]
  },
  {
   "cell_type": "markdown",
   "id": "f8943473-997b-42f7-ba90-bb065aefb7c5",
   "metadata": {},
   "source": [
    "#### Example: Random Walks"
   ]
  },
  {
   "cell_type": "markdown",
   "id": "5c80e436-befe-4def-b1f0-32be90181ffd",
   "metadata": {},
   "source": [
    "This [example](https://wesmckinney.com/book/numpy-basics.html#example_random_walks) has been taken from the book [*Python for Data Analysis*](https://wesmckinney.com/book/)"
   ]
  },
  {
   "cell_type": "markdown",
   "id": "f8c38c1d-9989-42c0-b629-31bb3a0a0b40",
   "metadata": {},
   "source": [
    "A **simple** pure kotlin implementation can be summarized as follows"
   ]
  },
  {
   "cell_type": "code",
   "execution_count": 26,
   "id": "3321b895-52d9-4f59-9454-c9f64dc904d0",
   "metadata": {
    "tags": []
   },
   "outputs": [],
   "source": [
    "import java.util.Random\n",
    "var position = 0\n",
    "val walk = mutableListOf(position)\n",
    "val rand = Random(123456)\n",
    "val steps = 1000\n",
    "for (i in 0 until steps) {\n",
    "    val step = if (rand.nextBoolean()) 1 else -1\n",
    "    position += step\n",
    "    walk.add(position)\n",
    "}"
   ]
  },
  {
   "cell_type": "markdown",
   "id": "63635858-9d47-4a5a-a757-691424f2a752",
   "metadata": {},
   "source": [
    "We can plot that walk"
   ]
  },
  {
   "cell_type": "code",
   "execution_count": 27,
   "id": "ec397915-c21b-4bfa-8818-67996a29186c",
   "metadata": {
    "tags": []
   },
   "outputs": [
    {
     "data": {
      "text/html": [
       "   <div id=\"6izbF4\"></div>\n",
       "   <script type=\"text/javascript\" data-lets-plot-script=\"library\">\n",
       "       if(!window.letsPlotCallQueue) {\n",
       "           window.letsPlotCallQueue = [];\n",
       "       }; \n",
       "       window.letsPlotCall = function(f) {\n",
       "           window.letsPlotCallQueue.push(f);\n",
       "       };\n",
       "       (function() {\n",
       "           var script = document.createElement(\"script\");\n",
       "           script.type = \"text/javascript\";\n",
       "           script.src = \"https://cdn.jsdelivr.net/gh/JetBrains/lets-plot@v3.2.0/js-package/distr/lets-plot.min.js\";\n",
       "           script.onload = function() {\n",
       "               window.letsPlotCall = function(f) {f();};\n",
       "               window.letsPlotCallQueue.forEach(function(f) {f();});\n",
       "               window.letsPlotCallQueue = [];\n",
       "               \n",
       "               \n",
       "           };\n",
       "           script.onerror = function(event) {\n",
       "               window.letsPlotCall = function(f) {};\n",
       "               window.letsPlotCallQueue = [];\n",
       "               var div = document.createElement(\"div\");\n",
       "               div.style.color = 'darkred';\n",
       "               div.textContent = 'Error loading Lets-Plot JS';\n",
       "               document.getElementById(\"6izbF4\").appendChild(div);\n",
       "           };\n",
       "           var e = document.getElementById(\"6izbF4\");\n",
       "           e.appendChild(script);\n",
       "       })();\n",
       "   </script>"
      ]
     },
     "metadata": {},
     "output_type": "display_data"
    }
   ],
   "source": [
    "%use lets-plot"
   ]
  },
  {
   "cell_type": "code",
   "execution_count": 28,
   "id": "39efb851-6b50-4272-b3b0-997a3d91c850",
   "metadata": {
    "tags": []
   },
   "outputs": [
    {
     "data": {
      "text/html": [
       "   <div id=\"iLKktV\"></div>\n",
       "   <script type=\"text/javascript\" data-lets-plot-script=\"plot\">\n",
       "       (function() {\n",
       "           var plotSpec={\n",
       "\"mapping\":{\n",
       "\"x\":\"x\",\n",
       "\"y\":\"y\"\n",
       "},\n",
       "\"kind\":\"plot\",\n",
       "\"scales\":[],\n",
       "\"layers\":[{\n",
       "\"mapping\":{\n",
       "},\n",
       "\"stat\":\"identity\",\n",
       "\"position\":\"identity\",\n",
       "\"geom\":\"line\",\n",
       "\"data\":{\n",
       "}\n",
       "}],\n",
       "\"data\":{\n",
       "\"x\":[0.0,1.0,2.0,3.0,4.0,5.0,6.0,7.0,8.0,9.0,10.0,11.0,12.0,13.0,14.0,15.0,16.0,17.0,18.0,19.0,20.0,21.0,22.0,23.0,24.0,25.0,26.0,27.0,28.0,29.0,30.0,31.0,32.0,33.0,34.0,35.0,36.0,37.0,38.0,39.0,40.0,41.0,42.0,43.0,44.0,45.0,46.0,47.0,48.0,49.0,50.0,51.0,52.0,53.0,54.0,55.0,56.0,57.0,58.0,59.0,60.0,61.0,62.0,63.0,64.0,65.0,66.0,67.0,68.0,69.0,70.0,71.0,72.0,73.0,74.0,75.0,76.0,77.0,78.0,79.0,80.0,81.0,82.0,83.0,84.0,85.0,86.0,87.0,88.0,89.0,90.0,91.0,92.0,93.0,94.0,95.0,96.0,97.0,98.0,99.0,100.0],\n",
       "\"y\":[0.0,-1.0,0.0,1.0,0.0,-1.0,-2.0,-1.0,-2.0,-3.0,-2.0,-1.0,-2.0,-3.0,-4.0,-3.0,-4.0,-3.0,-4.0,-3.0,-2.0,-3.0,-2.0,-3.0,-4.0,-5.0,-4.0,-3.0,-2.0,-3.0,-4.0,-5.0,-6.0,-7.0,-8.0,-7.0,-6.0,-5.0,-4.0,-3.0,-4.0,-3.0,-4.0,-3.0,-4.0,-3.0,-4.0,-5.0,-4.0,-5.0,-6.0,-7.0,-8.0,-9.0,-10.0,-9.0,-8.0,-9.0,-10.0,-11.0,-12.0,-13.0,-12.0,-13.0,-12.0,-13.0,-12.0,-13.0,-14.0,-15.0,-16.0,-15.0,-16.0,-15.0,-16.0,-15.0,-14.0,-13.0,-12.0,-13.0,-12.0,-13.0,-12.0,-11.0,-12.0,-13.0,-14.0,-15.0,-14.0,-13.0,-14.0,-13.0,-14.0,-13.0,-14.0,-13.0,-12.0,-13.0,-14.0,-15.0,-14.0]\n",
       "}\n",
       "};\n",
       "           var plotContainer = document.getElementById(\"iLKktV\");\n",
       "           window.letsPlotCall(function() {{\n",
       "               LetsPlot.buildPlotFromProcessedSpecs(plotSpec, -1, -1, plotContainer);\n",
       "           }});\n",
       "       })();    \n",
       "   </script>"
      ]
     },
     "execution_count": 28,
     "metadata": {},
     "output_type": "execute_result"
    }
   ],
   "source": [
    "ggplot() { x=(0..100).toList() ; y= walk.slice(0..100) } +\n",
    "    geomLine()"
   ]
  },
  {
   "cell_type": "markdown",
   "id": "e71ab02f-bc6d-4d0d-bdcf-99819b15931f",
   "metadata": {},
   "source": [
    "We can get the same result computing the cumulative sum of the random steps. (note that kotlin `List` can be used for creating one dimensional vector)"
   ]
  },
  {
   "cell_type": "code",
   "execution_count": 29,
   "id": "87507673-fbef-4259-bdf5-8bab74287c94",
   "metadata": {
    "tags": []
   },
   "outputs": [
    {
     "data": {
      "text/plain": [
       "-20"
      ]
     },
     "execution_count": 29,
     "metadata": {},
     "output_type": "execute_result"
    }
   ],
   "source": [
    "val nsteps = 1000\n",
    "\n",
    "val draws = mk.d1array(nsteps) { rand.nextInt(0, 2)}\n",
    "val steps = mk.d1array(draws.size) { if (draws[it] > 0) 1 else -1 }\n",
    "\n",
    "val walk = steps.cumSum()\n",
    "walk.min()"
   ]
  },
  {
   "cell_type": "code",
   "execution_count": 30,
   "id": "123ad9e7-fdcd-4103-acda-69c9e6fda629",
   "metadata": {
    "tags": []
   },
   "outputs": [
    {
     "data": {
      "text/plain": [
       "9"
      ]
     },
     "execution_count": 30,
     "metadata": {},
     "output_type": "execute_result"
    }
   ],
   "source": [
    "walk.max()"
   ]
  },
  {
   "cell_type": "markdown",
   "id": "64c315f4-ea9b-41c2-9472-a9902b1f2521",
   "metadata": {},
   "source": [
    "We can get the index of the walk when we cross the 10 steps above or below the origin, even if we have to pass trough a list, because Multik does not support `Boolean` arrays."
   ]
  },
  {
   "cell_type": "code",
   "execution_count": 31,
   "id": "4c14be49-269c-4148-88d9-2e94c1eebd17",
   "metadata": {
    "tags": []
   },
   "outputs": [
    {
     "data": {
      "text/plain": [
       "55"
      ]
     },
     "execution_count": 31,
     "metadata": {},
     "output_type": "execute_result"
    }
   ],
   "source": [
    "val first10 = abs(walk).toList().map { it >= 10 }.indexOfFirst { it }\n",
    "first10"
   ]
  },
  {
   "cell_type": "markdown",
   "id": "3a49705b-2b37-437f-9b31-f78695692ed5",
   "metadata": {},
   "source": [
    "And we can plot the first 100 steps similarly as we did before, illustrating where is the point we computed before"
   ]
  },
  {
   "cell_type": "code",
   "execution_count": 32,
   "id": "1f317daf-01bc-48e8-a99e-113bfe8929a2",
   "metadata": {
    "tags": []
   },
   "outputs": [
    {
     "data": {
      "text/html": [
       "   <div id=\"l6sc4h\"></div>\n",
       "   <script type=\"text/javascript\" data-lets-plot-script=\"plot\">\n",
       "       (function() {\n",
       "           var plotSpec={\n",
       "\"mapping\":{\n",
       "\"x\":\"x\",\n",
       "\"y\":\"y\"\n",
       "},\n",
       "\"kind\":\"plot\",\n",
       "\"scales\":[],\n",
       "\"layers\":[{\n",
       "\"mapping\":{\n",
       "},\n",
       "\"stat\":\"identity\",\n",
       "\"position\":\"identity\",\n",
       "\"geom\":\"line\",\n",
       "\"data\":{\n",
       "}\n",
       "},{\n",
       "\"mapping\":{\n",
       "},\n",
       "\"stat\":\"identity\",\n",
       "\"color\":\"red\",\n",
       "\"size\":5.0,\n",
       "\"x\":55.0,\n",
       "\"y\":-10.0,\n",
       "\"position\":\"identity\",\n",
       "\"geom\":\"point\",\n",
       "\"data\":{\n",
       "}\n",
       "}],\n",
       "\"data\":{\n",
       "\"x\":[0.0,1.0,2.0,3.0,4.0,5.0,6.0,7.0,8.0,9.0,10.0,11.0,12.0,13.0,14.0,15.0,16.0,17.0,18.0,19.0,20.0,21.0,22.0,23.0,24.0,25.0,26.0,27.0,28.0,29.0,30.0,31.0,32.0,33.0,34.0,35.0,36.0,37.0,38.0,39.0,40.0,41.0,42.0,43.0,44.0,45.0,46.0,47.0,48.0,49.0,50.0,51.0,52.0,53.0,54.0,55.0,56.0,57.0,58.0,59.0,60.0,61.0,62.0,63.0,64.0,65.0,66.0,67.0,68.0,69.0,70.0,71.0,72.0,73.0,74.0,75.0,76.0,77.0,78.0,79.0,80.0,81.0,82.0,83.0,84.0,85.0,86.0,87.0,88.0,89.0,90.0,91.0,92.0,93.0,94.0,95.0,96.0,97.0,98.0,99.0],\n",
       "\"y\":[1.0,0.0,1.0,0.0,1.0,2.0,1.0,0.0,-1.0,-2.0,-1.0,-2.0,-1.0,-2.0,-1.0,-2.0,-3.0,-4.0,-5.0,-4.0,-3.0,-2.0,-1.0,0.0,1.0,2.0,3.0,2.0,1.0,0.0,-1.0,-2.0,-3.0,-4.0,-5.0,-4.0,-3.0,-4.0,-5.0,-6.0,-5.0,-6.0,-7.0,-8.0,-7.0,-8.0,-7.0,-6.0,-7.0,-8.0,-7.0,-6.0,-7.0,-8.0,-9.0,-10.0,-9.0,-8.0,-9.0,-8.0,-7.0,-6.0,-5.0,-4.0,-5.0,-4.0,-3.0,-2.0,-3.0,-4.0,-3.0,-4.0,-3.0,-2.0,-3.0,-4.0,-3.0,-4.0,-5.0,-4.0,-3.0,-4.0,-3.0,-2.0,-3.0,-2.0,-3.0,-2.0,-1.0,-2.0,-3.0,-2.0,-3.0,-4.0,-5.0,-6.0,-5.0,-6.0,-5.0,-6.0]\n",
       "}\n",
       "};\n",
       "           var plotContainer = document.getElementById(\"l6sc4h\");\n",
       "           window.letsPlotCall(function() {{\n",
       "               LetsPlot.buildPlotFromProcessedSpecs(plotSpec, -1, -1, plotContainer);\n",
       "           }});\n",
       "       })();    \n",
       "   </script>"
      ]
     },
     "execution_count": 32,
     "metadata": {},
     "output_type": "execute_result"
    }
   ],
   "source": [
    "ggplot() { x = mk.arange<Int>(100).toList() ; y = walk[0..99].toList() } +\n",
    "    geomLine() +\n",
    "    geomPoint(x = first10, y = walk[first10], color=\"red\", size=5.0)"
   ]
  },
  {
   "cell_type": "markdown",
   "id": "035aa43a-0931-4876-aa5e-9b107f6bd430",
   "metadata": {},
   "source": [
    "Multik's `ndarray`s become handy in case we want to simulate many random walks at once, representing them in a matrix, where each row is a walk and each column of that row is a step:"
   ]
  },
  {
   "cell_type": "code",
   "execution_count": 33,
   "id": "fcd720b0",
   "metadata": {},
   "outputs": [],
   "source": [
    "val nwalks = 5000\n",
    "val nsteps = 1000\n",
    "\n",
    "val draws = mk.d2array(nwalks, nsteps) { rand.nextInt(0, 2)}\n",
    "val steps = draws.map { if (it > 0) 1 else -1 }"
   ]
  },
  {
   "cell_type": "code",
   "execution_count": 34,
   "id": "791d0272",
   "metadata": {},
   "outputs": [],
   "source": [
    "val walks = mk.math.cumSum(steps, axis = 1)"
   ]
  },
  {
   "cell_type": "code",
   "execution_count": 35,
   "id": "19b6a207",
   "metadata": {},
   "outputs": [
    {
     "data": {
      "text/plain": [
       "-105"
      ]
     },
     "execution_count": 35,
     "metadata": {},
     "output_type": "execute_result"
    }
   ],
   "source": [
    "walks.min()"
   ]
  },
  {
   "cell_type": "code",
   "execution_count": 36,
   "id": "637d1167",
   "metadata": {},
   "outputs": [
    {
     "data": {
      "text/plain": [
       "107"
      ]
     },
     "execution_count": 36,
     "metadata": {},
     "output_type": "execute_result"
    }
   ],
   "source": [
    "walks.max()"
   ]
  },
  {
   "cell_type": "markdown",
   "id": "a3dfaf9c",
   "metadata": {},
   "source": [
    "We can get all the runs that reach 50 or -50 using `mapMultiIndexed()` that will preserve the matrix structure."
   ]
  },
  {
   "cell_type": "code",
   "execution_count": 37,
   "id": "b9ea0c24-34cb-421e-b494-10635f0b93b5",
   "metadata": {
    "tags": []
   },
   "outputs": [
    {
     "data": {
      "text/plain": [
       "604"
      ]
     },
     "execution_count": 37,
     "metadata": {},
     "output_type": "execute_result"
    }
   ],
   "source": [
    "mk.math.maxD2(\n",
    "    walks.mapMultiIndexed { _, elem -> if (elem >= 50) 1 else 0 }, 1).sum()"
   ]
  },
  {
   "cell_type": "markdown",
   "id": "c8b11cb7-2d07-4b37-bb51-2dc8b96b94e3",
   "metadata": {},
   "source": [
    "## Broadcasting"
   ]
  },
  {
   "cell_type": "markdown",
   "id": "39bd3032-70b0-441a-94bc-58a811aa2a84",
   "metadata": {},
   "source": [
    "Array with different shapes can be broadcasted if this condition is satisfied (from NumPy documentation):\n",
    "> In order to broadcast, the size of the trailing axes for both arrays in an operation must either be the same size or one of them must be one.\n",
    "\n",
    "Multik does not have a direct way to broadcast two arrays with different shapes, but **KMath** tensor module provides an implementation in the `DoubleTensorAlgebra` context.\n",
    "\n",
    "KMath's modules needed for broadcasting are not available using the `%use` magic command, but we can tell Koltin's Jupyter Kernel to import them. KMath also has a set of API for transforming a Multik `NDArray` into a tensor, a more familiar object to Kmath.\n",
    "\n",
    "We use the `@file:DependsOn` command for importing `core`, `multik` and `tensors` modules of KMath inside the project:"
   ]
  },
  {
   "cell_type": "code",
   "execution_count": 38,
   "id": "b8665575-6663-47b7-b1b8-150630fb458e",
   "metadata": {
    "tags": []
   },
   "outputs": [],
   "source": [
    "@file:DependsOn(\"space.kscience:kmath-core:0.3.1\")\n",
    "@file:DependsOn(\"space.kscience:kmath-tensors:0.3.1\")\n",
    "@file:DependsOn(\"space.kscience:kmath-multik:0.3.1\")"
   ]
  },
  {
   "cell_type": "markdown",
   "id": "847ffd95-07b8-4256-8429-699c83d339e5",
   "metadata": {},
   "source": [
    "For being able to use them, we import the needed packages."
   ]
  },
  {
   "cell_type": "markdown",
   "id": "5f94e284-ba98-49ec-a6e8-63cfcf60ce2c",
   "metadata": {
    "tags": []
   },
   "source": [
    "```kotlin\n",
    "import space.kscience.kmath.multik.MultikTensor\n",
    "import space.kscience.kmath.tensors.core.DoubleTensorAlgebra\n",
    "import space.kscience.kmath.tensors.core.tensorAlgebra\n",
    "import space.kscience.kmath.tensors.core.withBroadcast\n",
    "import space.kscience.kmath.tensors.core.DoubleTensor\n",
    "```"
   ]
  },
  {
   "cell_type": "markdown",
   "id": "2c02362f-aa35-49a7-aa83-b20cc48a668b",
   "metadata": {},
   "source": [
    "Of course we could have used KMath tensors for all the computation, but KMath tensors are in some way harder to manipulate that Multik's `NDArrays`, so in this example we will see how we can compute broadcasting starting from two `NDArray`s.\n",
    "\n",
    "Thanks to Kotlin *extensions functions* we can map the `+` operator between two `MultikTensor`s objects to compute broadcasting if needed."
   ]
  },
  {
   "cell_type": "markdown",
   "id": "748b07a5-7726-47b7-b25e-19c3236e2f10",
   "metadata": {
    "tags": []
   },
   "source": [
    "```kotlin\n",
    "fun NDArray<Double, DN>.asMultikTensor(): MultikTensor<Double> = MultikTensor(this)\n",
    "\n",
    "fun brAdd(a: MultikTensor<Double>, b: MultikTensor<Double>): DoubleTensor? {\n",
    "    return Double.tensorAlgebra.withBroadcast { \n",
    "        a + b\n",
    "    }\n",
    "}\n",
    "\n",
    "operator fun MultikTensor<Double>.plus(other: MultikTensor<Double>): DoubleTensor? = brAdd(this, other)\n",
    "```"
   ]
  },
  {
   "cell_type": "markdown",
   "id": "cab0a455-4af7-43a6-9aeb-d9417009bd11",
   "metadata": {},
   "source": [
    "With those functions, the following code produces the expected output."
   ]
  },
  {
   "cell_type": "markdown",
   "id": "c24adfb7-bf8b-48de-a642-ee8e1c0bc2cb",
   "metadata": {
    "tags": []
   },
   "source": [
    "```kotlin\n",
    "val a: NDArray<Double, DN> = mk.arange<Double>(40).reshape(2, 4, 5).asDNArray()\n",
    "val b: NDArray<Double, DN> = mk.arange<Double>(20).reshape(4, 5).asDNArray()\n",
    "\n",
    "a.asMultikTensor() + b.asMultikTensor()\n",
    "```"
   ]
  },
  {
   "cell_type": "markdown",
   "id": "5af23751-5ece-458c-b437-2d9f6ddd6534",
   "metadata": {},
   "source": [
    "```\n",
    "DoubleTensor(\n",
    "   [[[ 0.0      ,  2.0      ,  4.0      ,  6.0      ,  8.0      ],\n",
    "     [ 1.0e+1   ,  1.2e+1   ,  1.4e+1   ,  1.6e+1   ,  1.8e+1   ],\n",
    "     [ 0.2e+2   ,  2.2e+1   ,  2.4e+1   ,  2.6e+1   ,  2.8e+1   ],\n",
    "     [ 0.3e+2   ,  3.2e+1   ,  3.4e+1   ,  3.6e+1   ,  3.8e+1   ]],\n",
    "    [[ 0.2e+2   ,  2.2e+1   ,  2.4e+1   ,  2.6e+1   ,  2.8e+1   ]],\n",
    "    [ 0.3e+2   ,  3.2e+1   ,  3.4e+1   ,  3.6e+1   ,  3.8e+1   ]],\n",
    "   [ 0.4e+2   ,  4.2e+1   ,  4.4e+1   ,  4.6e+1   ,  4.8e+1   ]],\n",
    "  [ 0.5e+2   ,  5.2e+1   ,  5.4e+1   ,  5.6e+1   ,  5.8e+1   ]]]\n",
    ")\n",
    "```"
   ]
  },
  {
   "cell_type": "markdown",
   "id": "39430b03-c455-4cd8-bd71-86569e0861a6",
   "metadata": {},
   "source": [
    "There is no such thing as a `np.newaxis` for specifying the missing dimension to broadcast along. We must reshape the arrays in order to broadcast properly.\n",
    "\n",
    "Consider this example, where we compute the mean of every row, and we want to add the mean to the original matrix.\n",
    "According to broadcasting rules, if we want to perform broadcasting across axes other than axis 0, the \"broadcast dimensions\" must be 1 in the smaller array. Being `b` of shape `(4, 5)` and the mean vector is `(, 4)`, we must reshape and insert a \"1\" in the broadcasting dimension, the second one."
   ]
  },
  {
   "cell_type": "markdown",
   "id": "bea5c21e-b698-468e-96aa-b4daf6481ace",
   "metadata": {
    "tags": []
   },
   "source": [
    "```kotlin\n",
    "val mean = mk.stat.meanD2(b.asD2Array(), 1)\n",
    "                .reshape(b.shape[0], 1)\n",
    "                .asDNArray().asMultikTensor()\n",
    "\n",
    "\n",
    "b.asMultikTensor() + mean\n",
    "```"
   ]
  },
  {
   "cell_type": "markdown",
   "id": "b1184b38-882f-4b41-b8e6-2c0baf97425d",
   "metadata": {
    "tags": []
   },
   "source": [
    "```\n",
    "DoubleTensor(\n",
    "   [[ 2.0      ,  3.0      ,  4.0      ,  5.0      ,  6.0      ],\n",
    "    [ 1.2e+1   ,  1.3e+1   ,  1.4e+1   ,  1.5e+1   ,  1.6e+1   ],\n",
    "    [ 2.2e+1   ,  2.3e+1   ,  2.4e+1   ,  2.5e+1   ,  2.6e+1   ],\n",
    "    [ 3.2e+1   ,  3.3e+1   ,  3.4e+1   ,  3.5e+1   ,  3.6e+1   ]]\n",
    ")\n",
    "```"
   ]
  },
  {
   "cell_type": "markdown",
   "id": "b48af4ad-42ea-4667-bc23-bd8241233cb6",
   "metadata": {},
   "source": [
    "Notes: \n",
    "- The `withBroadcast` context is claimed to be *unstable* and could change in the future.\n",
    "- For large arrays, the chain of conversions can be very slow in performance-critical code.\n",
    "- No direct ways to re-convert a `DoubleTensor` to a Multik `NDArray` were found: the only way is to manually copy element by element from the `DoubleTensor` to a new `NDArray`."
   ]
  },
  {
   "cell_type": "markdown",
   "id": "47b16b61-670e-44ea-ab87-99cc2d97e9a9",
   "metadata": {},
   "source": [
    "## Conclusions"
   ]
  },
  {
   "cell_type": "markdown",
   "id": "31f716ef-9240-48bf-a306-3aab2d22da40",
   "metadata": {},
   "source": [
    "In this chapter was presented Kotlin's Multik library for working with N-Dimensional Arrays. The set of data structure and methods are very close to NumPy's, which makes it very easy to learn if the developer has a basic knowledge of NumPy. However, NumPy has more that 20 years of development and fine tuning, resulting in one of the best libraries for scientific computation: the better support for linear algebra operation, array broadcasting and the possibility to use multidimensional arrays with *non-numeric* data types, makes it a very flexible and powerful library.\n",
    "On the other hand, Multik can be used with libraries like [Kmath](https://github.com/SciProgCentre/kmath) and [Apache Commons Math](https://github.com/apache/commons-math), or any other library developed in Java, making it very powerful with the right set of components at the need of the developer (i.e. array broadcasting and more advanced linear algebra can be accomplished with the use of Kmath). Please note that Multik is very efficient with basic mathematical computation, and for a little bit more, Kmath connectors for Multik can really help archiving more difficult tasks (i.e. integration).\n",
    "\n",
    "Kotlin ecosystem for scientific computation is still young, but with the joint use of the right libraries, a lot can be archived."
   ]
  }
 ],
 "metadata": {
  "kernelspec": {
   "display_name": "Kotlin",
   "language": "kotlin",
   "name": "kotlin"
  },
  "language_info": {
   "codemirror_mode": "text/x-kotlin",
   "file_extension": ".kt",
   "mimetype": "text/x-kotlin",
   "name": "kotlin",
   "nbconvert_exporter": "",
   "pygments_lexer": "kotlin",
   "version": "1.8.20"
  }
 },
 "nbformat": 4,
 "nbformat_minor": 5
}
