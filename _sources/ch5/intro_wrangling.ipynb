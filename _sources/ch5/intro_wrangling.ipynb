{
 "cells": [
  {
   "cell_type": "markdown",
   "id": "04bce8e8-1607-499a-86d3-deb3bc9efc26",
   "metadata": {
    "tags": []
   },
   "source": [
    "# Data Wrangling\n",
    "\n",
    "> Data wrangling is the process of transforming and mapping data from one \"raw\" data form into another format that is more appropriate for analytics and visualization. The goal of data wrangling is to assure quality and usefulness of data.\n",
    "\n",
    "Data scientists' goal is not just to analyze data, but to gain insights that can drive business decisions. This requires data that is clean, complete, and well-organized. Data wrangling enables us to achieve this by transforming data from a raw or semi-structured form into a more structured format that can be analyzed efficiently.\n",
    "\n",
    "In this chapter we will explore data wrangling tools such as joining, combining and reshaping dataframes."
   ]
  }
 ],
 "metadata": {
  "kernelspec": {
   "display_name": "Kotlin",
   "language": "kotlin",
   "name": "kotlin"
  },
  "language_info": {
   "codemirror_mode": "text/x-kotlin",
   "file_extension": ".kt",
   "mimetype": "text/x-kotlin",
   "name": "kotlin",
   "nbconvert_exporter": "",
   "pygments_lexer": "kotlin",
   "version": "1.8.20"
  }
 },
 "nbformat": 4,
 "nbformat_minor": 5
}
