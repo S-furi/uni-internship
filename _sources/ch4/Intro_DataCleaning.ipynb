{
 "cells": [
  {
   "cell_type": "markdown",
   "id": "709607f2-1215-4982-9357-b90c5949c209",
   "metadata": {},
   "source": [
    "# Data Cleaning and Preparation"
   ]
  }
 ],
 "metadata": {
  "kernelspec": {
   "display_name": "Kotlin",
   "language": "kotlin",
   "name": "kotlin"
  },
  "language_info": {
   "codemirror_mode": "text/x-kotlin",
   "file_extension": ".kt",
   "mimetype": "text/x-kotlin",
   "name": "kotlin",
   "nbconvert_exporter": "",
   "pygments_lexer": "kotlin",
   "version": "1.8.20"
  }
 },
 "nbformat": 4,
 "nbformat_minor": 5
}
