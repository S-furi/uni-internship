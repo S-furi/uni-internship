{
 "cells": [
  {
   "cell_type": "markdown",
   "id": "ea7ef76f-18c3-417a-b047-56e432d3e9cd",
   "metadata": {},
   "source": [
    "# Data Loading and Storage"
   ]
  },
  {
   "cell_type": "markdown",
   "id": "e2afcfc5-bf0d-4a00-b451-97b021f86847",
   "metadata": {},
   "source": [
    "Accessing data is the first prerequisite when dealing with Data Science. A library that handles data should be able to both read and write data on file system in various file formats. The libraries for data manipulation discussed until now, Kotlin DataFrame and Python's pandas, provides those functionalities. \n",
    "\n",
    "Koltin DataFrame provides more basic functions than pandas (as said before, DataFrame is quite young and currently under development), especially when it comes to file format.\n",
    "In the current version ([v0.10](https://github.com/Kotlin/dataframe/releases/tag/build-0.10.0)) data reading and writing is supported in four file formats: CSV, JSON, Excel Spreadsheets format and Apache Arrow. On the other hand, pandas offers support for all four of them and even more (see docs for a full list of [supported file formats](https://pandas.pydata.org/docs/user_guide/io.html)). Note that both DataFrame and pandas can read from file system and URLs.\n",
    "\n",
    "You can find all the references for DataFrame I/O in the [user guide](https://kotlin.github.io/dataframe/io.html), and plenty of documentation about pandas reading and writing data in this [section](https://pandas.pydata.org/docs/user_guide/io.html)."
   ]
  }
 ],
 "metadata": {
  "kernelspec": {
   "display_name": "Kotlin",
   "language": "kotlin",
   "name": "kotlin"
  },
  "language_info": {
   "codemirror_mode": "text/x-kotlin",
   "file_extension": ".kt",
   "mimetype": "text/x-kotlin",
   "name": "kotlin",
   "nbconvert_exporter": "",
   "pygments_lexer": "kotlin",
   "version": "1.8.20"
  }
 },
 "nbformat": 4,
 "nbformat_minor": 5
}
