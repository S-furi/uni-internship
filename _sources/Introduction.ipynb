{
 "cells": [
  {
   "cell_type": "markdown",
   "id": "54706140-3282-4a5a-a414-366d09825f0a",
   "metadata": {},
   "source": [
    "# Data Science with Kotlin"
   ]
  },
  {
   "cell_type": "markdown",
   "id": "2a228af5-2495-438d-a5da-1205eaed5999",
   "metadata": {},
   "source": [
    "Data Science has rapidly evolved over the years, with numerous programming languages available to perform data analysis tasks. **Python** has become a go-to language for data scientists due to its extensive libraries and tools like NumPy or pandas. On the other hand, **Kotlin**, a language initially designed for Android development, has gradually gained popularity in other domains, including data science recently."
   ]
  },
  {
   "cell_type": "markdown",
   "id": "fac491d0-7018-4684-ba1f-6584a26f9d06",
   "metadata": {},
   "source": [
    "## Python for Data Science"
   ]
  },
  {
   "cell_type": "markdown",
   "id": "7d9ef1c3-9acb-4ab8-9ed1-8ddde5559a3d",
   "metadata": {},
   "source": [
    "Python has been the dominant language for data science for more than twenty years, and there are several reasons why it remains the preferred choice for many data scientist:\n",
    "- Python has a large and active *community* of developers.\n",
    "- Extensive libraries and tools, especially for data science.\n",
    "- Easy to learn and use.\n",
    "- *Flexibility* due to Python's general purpose nature.\n",
    "\n",
    "The most used and well known libraries for data science with python are:\n",
    "- [**NumPy**](https://numpy.org/)\n",
    "- [**Pandas**](https://pandas.pydata.org/)\n",
    "- [**Matplotlib**](https://matplotlib.org/)"
   ]
  },
  {
   "cell_type": "markdown",
   "id": "bbbfad92-6bcb-4d4c-b9ee-ff88d8765697",
   "metadata": {},
   "source": [
    "## Kotlin for Data Science"
   ]
  },
  {
   "cell_type": "markdown",
   "id": "717879d8-a8e2-4165-85d1-c340c3d5de46",
   "metadata": {},
   "source": [
    "While Kotlin is a relatively new language that has been gaining popularity, the ecosystem of libraries for data-related tasks created by the Kotlin community is rapidly expanding. Even if it is not widely adopted in the data science community, the advantages of using Kotlin include:\n",
    "- Kotlin is a **statically typed** langauge, improving bug prevention (spotting many errors at compile time!), code quality  and performances.\n",
    "- Concise and expressive syntax, which can improve code readability and maintainability.\n",
    "- Interoperability with Java, seamlessly integrating with existing Java code and libraries.\n",
    "- Kotlin's support for functional programming techniques, such as immutability, higher-order functions, and lambdas, can be very useful for data science tasks as it allows for concise and efficient processing of large datasets.\n",
    "\n",
    "In this document, we will go through three libraries that should cover the Python tools mentioned above:\n",
    "- [**Multik**](https://github.com/Kotlin/multik)\n",
    "- [**Dataframe**](https://github.com/Kotlin/dataframe)\n",
    "- [**Lets-Plot**](https://github.com/JetBrains/lets-plot-kotlin)\n",
    "\n",
    "It's important to notice that Multik and DataFrame are very \"young\" libraries, meaning that they are not as optimized and supported as Python's data science libraries. The goal of this document is to illustrate and guide the reader on what, why and how Kotlin can be a viable alternative for data analysis tasks, taking advantage of its core features like static typing, functional programming techniques and its maintainability."
   ]
  },
  {
   "cell_type": "markdown",
   "id": "3589feff-4801-4fe6-a81a-88bfb662f768",
   "metadata": {},
   "source": [
    "---\n",
    "## Working with Jupyter Notebook\n",
    "Nowadays it is more and more popular to work with [Jupyter Notebooks](https://jupyter.org/) for Data Science projects. Data visualization is a key aspect about this job, and with a notebook, it's very easy to load, process, manipulate and visualize data. \n",
    "\n",
    "Each notebook has to connect to a **kernel**, which provides the interpretation/compiling of the code inside a notebook. \n",
    "\n",
    "There are kernels for most of the python versions, but also kernels that support the R programming language, Ruby and a lot more!\n",
    "\n",
    "Fortunately, [Kotlin Jupyter Kernel](https://github.com/Kotlin/kotlin-jupyter) provide a kernel that make possible the use kotlin inside a Jupyter Notebook, and it adds support for libraries like Kotlin `DataFrame` and `Lets-Plot` for a proper rendering of Dataframes and Plots respectively.\n",
    "\n",
    "\n",
    "\n",
    "In the repository linked to this page, the [`README.md`](https://github.com/S-furi/uni-internship/blob/9c238bf7c2d22be8f08677fd2e06f6999e93f897/README.md) contains some summarized instructions for downloading and enabling an environment to work with Jupyter Notebooks and Kotlin inside a notebook using Kotlin Jupyter Kernel."
   ]
  }
 ],
 "metadata": {
  "kernelspec": {
   "display_name": "Python 3 (ipykernel)",
   "language": "python",
   "name": "python3"
  },
  "language_info": {
   "codemirror_mode": {
    "name": "ipython",
    "version": 3
   },
   "file_extension": ".py",
   "mimetype": "text/x-python",
   "name": "python",
   "nbconvert_exporter": "python",
   "pygments_lexer": "ipython3",
   "version": "3.10.9"
  }
 },
 "nbformat": 4,
 "nbformat_minor": 5
}
